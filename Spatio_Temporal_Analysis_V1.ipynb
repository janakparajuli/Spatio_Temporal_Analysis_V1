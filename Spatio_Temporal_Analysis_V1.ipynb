{
 "cells": [
  {
   "cell_type": "code",
   "execution_count": 1,
   "id": "0539cff9-a5ec-4998-9b7c-a147699ed328",
   "metadata": {},
   "outputs": [],
   "source": [
    "### Install required packages here"
   ]
  },
  {
   "cell_type": "markdown",
   "id": "37f49c1a-543b-4a97-9cf4-f519fdff808d",
   "metadata": {},
   "source": [
    "### Prepare mean index for each bounds"
   ]
  },
  {
   "cell_type": "code",
   "execution_count": 1,
   "id": "eaca469f-688d-458d-841a-ea4ffea61e5b",
   "metadata": {},
   "outputs": [],
   "source": [
    "import pandas as pd\n",
    "import numpy as np"
   ]
  },
  {
   "cell_type": "code",
   "execution_count": 2,
   "id": "b07ae876-4b0a-4650-8e77-1d54bf6a2597",
   "metadata": {},
   "outputs": [],
   "source": [
    "# Load the CSV file\n",
    "df = pd.read_csv(r\"./csv/Bounds_HAI.csv\")"
   ]
  },
  {
   "cell_type": "code",
   "execution_count": 3,
   "id": "a1709132-7d94-4ff8-a4a8-eb37647e275e",
   "metadata": {},
   "outputs": [
    {
     "data": {
      "text/html": [
       "<div>\n",
       "<style scoped>\n",
       "    .dataframe tbody tr th:only-of-type {\n",
       "        vertical-align: middle;\n",
       "    }\n",
       "\n",
       "    .dataframe tbody tr th {\n",
       "        vertical-align: top;\n",
       "    }\n",
       "\n",
       "    .dataframe thead th {\n",
       "        text-align: right;\n",
       "    }\n",
       "</style>\n",
       "<table border=\"1\" class=\"dataframe\">\n",
       "  <thead>\n",
       "    <tr style=\"text-align: right;\">\n",
       "      <th></th>\n",
       "      <th>AGG_DAY_PERIOD</th>\n",
       "      <th>BOUNDS</th>\n",
       "      <th>CENTROID_LAT</th>\n",
       "      <th>CENTROID_LON</th>\n",
       "      <th>MEAN_ACTIVITY_INDEX_TOTAL</th>\n",
       "    </tr>\n",
       "  </thead>\n",
       "  <tbody>\n",
       "    <tr>\n",
       "      <th>0</th>\n",
       "      <td>2020-01-20</td>\n",
       "      <td>(5.873565673828125, 51.04053042130972, 5.87493...</td>\n",
       "      <td>51.040962</td>\n",
       "      <td>5.874252</td>\n",
       "      <td>0.018629</td>\n",
       "    </tr>\n",
       "    <tr>\n",
       "      <th>1</th>\n",
       "      <td>2020-01-20</td>\n",
       "      <td>(5.87493896484375, 51.02844005602988, 5.876312...</td>\n",
       "      <td>51.028872</td>\n",
       "      <td>5.875626</td>\n",
       "      <td>0.164530</td>\n",
       "    </tr>\n",
       "    <tr>\n",
       "      <th>2</th>\n",
       "      <td>2020-01-20</td>\n",
       "      <td>(5.876312255859375, 51.03103111414404, 5.87768...</td>\n",
       "      <td>51.031463</td>\n",
       "      <td>5.876999</td>\n",
       "      <td>0.203132</td>\n",
       "    </tr>\n",
       "    <tr>\n",
       "      <th>3</th>\n",
       "      <td>2020-01-20</td>\n",
       "      <td>(5.876312255859375, 51.04053042130972, 5.87768...</td>\n",
       "      <td>51.040962</td>\n",
       "      <td>5.876999</td>\n",
       "      <td>0.233522</td>\n",
       "    </tr>\n",
       "    <tr>\n",
       "      <th>4</th>\n",
       "      <td>2020-01-20</td>\n",
       "      <td>(5.876312255859375, 51.04139389812637, 5.87768...</td>\n",
       "      <td>51.041826</td>\n",
       "      <td>5.876999</td>\n",
       "      <td>0.009507</td>\n",
       "    </tr>\n",
       "  </tbody>\n",
       "</table>\n",
       "</div>"
      ],
      "text/plain": [
       "  AGG_DAY_PERIOD                                             BOUNDS  \\\n",
       "0     2020-01-20  (5.873565673828125, 51.04053042130972, 5.87493...   \n",
       "1     2020-01-20  (5.87493896484375, 51.02844005602988, 5.876312...   \n",
       "2     2020-01-20  (5.876312255859375, 51.03103111414404, 5.87768...   \n",
       "3     2020-01-20  (5.876312255859375, 51.04053042130972, 5.87768...   \n",
       "4     2020-01-20  (5.876312255859375, 51.04139389812637, 5.87768...   \n",
       "\n",
       "   CENTROID_LAT  CENTROID_LON  MEAN_ACTIVITY_INDEX_TOTAL  \n",
       "0     51.040962      5.874252                   0.018629  \n",
       "1     51.028872      5.875626                   0.164530  \n",
       "2     51.031463      5.876999                   0.203132  \n",
       "3     51.040962      5.876999                   0.233522  \n",
       "4     51.041826      5.876999                   0.009507  "
      ]
     },
     "execution_count": 3,
     "metadata": {},
     "output_type": "execute_result"
    }
   ],
   "source": [
    "df.head()"
   ]
  },
  {
   "cell_type": "code",
   "execution_count": 4,
   "id": "dc7ff167-8f5e-49cf-9ed0-41144a977a84",
   "metadata": {},
   "outputs": [],
   "source": []
  },
  {
   "cell_type": "code",
   "execution_count": 4,
   "id": "5480c771-8354-4e74-848a-f8a0b8557a94",
   "metadata": {},
   "outputs": [
    {
     "data": {
      "text/plain": [
       "AGG_DAY_PERIOD                   347\n",
       "BOUNDS                       3005863\n",
       "CENTROID_LAT                    3072\n",
       "CENTROID_LON                    2896\n",
       "MEAN_ACTIVITY_INDEX_TOTAL     484241\n",
       "dtype: int64"
      ]
     },
     "execution_count": 4,
     "metadata": {},
     "output_type": "execute_result"
    }
   ],
   "source": [
    "len(df)\n",
    "df.nunique()"
   ]
  },
  {
   "cell_type": "code",
   "execution_count": 10,
   "id": "9ce25106-e076-417c-a983-fa34d6ce76b3",
   "metadata": {},
   "outputs": [],
   "source": []
  },
  {
   "cell_type": "code",
   "execution_count": null,
   "id": "d459dff2-fe5e-49cb-86d3-89f04b4034bc",
   "metadata": {},
   "outputs": [],
   "source": []
  },
  {
   "cell_type": "code",
   "execution_count": null,
   "id": "84252114-02ad-4872-a826-0dcc26549fa6",
   "metadata": {},
   "outputs": [],
   "source": []
  },
  {
   "cell_type": "code",
   "execution_count": null,
   "id": "8161ef0b-72cf-46b9-ab9f-20a89d127d29",
   "metadata": {},
   "outputs": [],
   "source": []
  },
  {
   "cell_type": "code",
   "execution_count": null,
   "id": "982c7801-3813-47dd-a56d-8c60becb574f",
   "metadata": {},
   "outputs": [],
   "source": []
  },
  {
   "cell_type": "code",
   "execution_count": null,
   "id": "ece02640-c73e-4d14-bb12-eac15f7bc6c2",
   "metadata": {},
   "outputs": [],
   "source": []
  },
  {
   "cell_type": "code",
   "execution_count": null,
   "id": "c094e146-f23f-403d-8e58-fb3792a35afd",
   "metadata": {},
   "outputs": [],
   "source": []
  },
  {
   "cell_type": "code",
   "execution_count": null,
   "id": "3e4df31e-e3f5-4f89-9999-8e4e9994ed38",
   "metadata": {},
   "outputs": [],
   "source": []
  },
  {
   "cell_type": "code",
   "execution_count": null,
   "id": "66ddd39e-b434-49b9-aa3c-cbe7a9be1920",
   "metadata": {},
   "outputs": [],
   "source": []
  },
  {
   "cell_type": "code",
   "execution_count": null,
   "id": "683260c5-fbac-4a4c-975f-6d0800383e48",
   "metadata": {},
   "outputs": [],
   "source": []
  },
  {
   "cell_type": "code",
   "execution_count": null,
   "id": "a9dc3087-3330-4c52-a804-4523bfe81f41",
   "metadata": {},
   "outputs": [],
   "source": []
  },
  {
   "cell_type": "code",
   "execution_count": null,
   "id": "528ae272-85fb-409c-ba5e-5cca242743ed",
   "metadata": {},
   "outputs": [],
   "source": []
  }
 ],
 "metadata": {
  "kernelspec": {
   "display_name": "Python 3 (ipykernel)",
   "language": "python",
   "name": "python3"
  },
  "language_info": {
   "codemirror_mode": {
    "name": "ipython",
    "version": 3
   },
   "file_extension": ".py",
   "mimetype": "text/x-python",
   "name": "python",
   "nbconvert_exporter": "python",
   "pygments_lexer": "ipython3",
   "version": "3.8.19"
  }
 },
 "nbformat": 4,
 "nbformat_minor": 5
}
