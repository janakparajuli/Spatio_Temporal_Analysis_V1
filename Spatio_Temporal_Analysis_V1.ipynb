{
 "cells": [
  {
   "cell_type": "code",
   "execution_count": 1,
   "id": "0539cff9-a5ec-4998-9b7c-a147699ed328",
   "metadata": {},
   "outputs": [],
   "source": [
    "### Install required packages here"
   ]
  },
  {
   "cell_type": "markdown",
   "id": "37f49c1a-543b-4a97-9cf4-f519fdff808d",
   "metadata": {},
   "source": [
    "### Prepare mean index for each bounds"
   ]
  },
  {
   "cell_type": "code",
   "execution_count": 2,
   "id": "eaca469f-688d-458d-841a-ea4ffea61e5b",
   "metadata": {},
   "outputs": [],
   "source": [
    "import pandas as pd\n",
    "import numpy as np"
   ]
  },
  {
   "cell_type": "code",
   "execution_count": 3,
   "id": "b07ae876-4b0a-4650-8e77-1d54bf6a2597",
   "metadata": {},
   "outputs": [],
   "source": [
    "# Load the CSV file\n",
    "df = pd.read_csv(r\"E:\\PROFESSION\\NG\\Research\\PN_Raja\\nrw_hai.csv\")\n",
    "\n",
    "# Extract the required fields\n",
    "extracted_df = df[['AGG_DAY_PERIOD', 'BOUNDS', 'XLAT', 'XLON', 'ACTIVITY_INDEX_TOTAL']]\n",
    "\n",
    "# Save the extracted data to a new CSV file\n",
    "extracted_df.to_csv('./csv/nrw_hai_extracted.csv', index=False)"
   ]
  },
  {
   "cell_type": "code",
   "execution_count": 5,
   "id": "a1709132-7d94-4ff8-a4a8-eb37647e275e",
   "metadata": {},
   "outputs": [],
   "source": [
    "del extracted_df"
   ]
  },
  {
   "cell_type": "code",
   "execution_count": 4,
   "id": "dc7ff167-8f5e-49cf-9ed0-41144a977a84",
   "metadata": {},
   "outputs": [],
   "source": [
    "### Read csv file\n",
    "df = pd.read_csv('./csv/nrw_hai_extracted.csv')"
   ]
  },
  {
   "cell_type": "code",
   "execution_count": 9,
   "id": "5480c771-8354-4e74-848a-f8a0b8557a94",
   "metadata": {},
   "outputs": [
    {
     "data": {
      "text/plain": [
       "52343230"
      ]
     },
     "execution_count": 9,
     "metadata": {},
     "output_type": "execute_result"
    }
   ],
   "source": [
    "len(df)"
   ]
  },
  {
   "cell_type": "code",
   "execution_count": 10,
   "id": "9ce25106-e076-417c-a983-fa34d6ce76b3",
   "metadata": {},
   "outputs": [],
   "source": [
    "# Function to determine if a point is within a bounding box\n",
    "def is_within_bounds(lat, lon, bounds):\n",
    "    lower_left_lon, lower_left_lat, upper_right_lon, upper_right_lat = bounds\n",
    "    return lower_left_lon <= lon <= upper_right_lon and lower_left_lat <= lat <= upper_right_lat\n",
    "\n",
    "# Initialize a dictionary to store activity index totals and counts for averaging\n",
    "activity_totals = {}\n",
    "activity_counts = {}"
   ]
  },
  {
   "cell_type": "code",
   "execution_count": null,
   "id": "d459dff2-fe5e-49cb-86d3-89f04b4034bc",
   "metadata": {},
   "outputs": [],
   "source": [
    "# Iterate over the rows of the dataframe\n",
    "for index, row in df.iterrows():\n",
    "    bounds = eval(row['BOUNDS'])  # Convert the string representation of the list to an actual list\n",
    "    xlat = row['XLAT']\n",
    "    xlon = row['XLON']\n",
    "    activity_index = row['ACTIVITY_INDEX_TOTAL']\n",
    "    \n",
    "    if is_within_bounds(xlat, xlon, bounds):\n",
    "        grid_cell = (bounds[0], bounds[1], bounds[2], bounds[3])\n",
    "        if grid_cell not in activity_totals:\n",
    "            activity_totals[grid_cell] = 0\n",
    "            activity_counts[grid_cell] = 0\n",
    "        \n",
    "        activity_totals[grid_cell] += activity_index\n",
    "        activity_counts[grid_cell] += 1\n",
    "\n"
   ]
  },
  {
   "cell_type": "code",
   "execution_count": null,
   "id": "84252114-02ad-4872-a826-0dcc26549fa6",
   "metadata": {},
   "outputs": [],
   "source": [
    "# Compute the average activity index for each grid cell\n",
    "average_activity_index = {cell: activity_totals[cell] / activity_counts[cell] for cell in activity_totals}"
   ]
  },
  {
   "cell_type": "code",
   "execution_count": null,
   "id": "8161ef0b-72cf-46b9-ab9f-20a89d127d29",
   "metadata": {},
   "outputs": [],
   "source": []
  },
  {
   "cell_type": "code",
   "execution_count": null,
   "id": "982c7801-3813-47dd-a56d-8c60becb574f",
   "metadata": {},
   "outputs": [],
   "source": []
  },
  {
   "cell_type": "code",
   "execution_count": null,
   "id": "ece02640-c73e-4d14-bb12-eac15f7bc6c2",
   "metadata": {},
   "outputs": [],
   "source": []
  },
  {
   "cell_type": "code",
   "execution_count": null,
   "id": "c094e146-f23f-403d-8e58-fb3792a35afd",
   "metadata": {},
   "outputs": [],
   "source": []
  },
  {
   "cell_type": "code",
   "execution_count": null,
   "id": "3e4df31e-e3f5-4f89-9999-8e4e9994ed38",
   "metadata": {},
   "outputs": [],
   "source": []
  },
  {
   "cell_type": "code",
   "execution_count": null,
   "id": "66ddd39e-b434-49b9-aa3c-cbe7a9be1920",
   "metadata": {},
   "outputs": [],
   "source": [
    "import pandas as pd\n",
    "import numpy as np\n",
    "\n",
    "# Load the CSV file\n",
    "df = pd.read_csv('nrw_hai.csv')\n",
    "\n",
    "# Extract the required fields\n",
    "extracted_df = df[['AGG_DAY_PERIOD', 'BOUNDS', 'XLAT', 'XLON', 'ACTIVITY_INDEX_TOTAL']]\n",
    "\n",
    "# Save the extracted data to a new CSV file\n",
    "extracted_df.to_csv('extracted_data.csv', index=False)\n",
    "\n",
    "# Function to determine if a point is within a bounding box\n",
    "def is_within_bounds(lat, lon, bounds):\n",
    "    lower_left_lon, lower_left_lat, upper_right_lon, upper_right_lat = bounds\n",
    "    return lower_left_lon <= lon <= upper_right_lon and lower_left_lat <= lat <= upper_right_lat\n",
    "\n",
    "# Initialize a dictionary to store activity index totals and counts for averaging\n",
    "activity_totals = {}\n",
    "activity_counts = {}\n",
    "\n",
    "# Iterate over the rows of the extracted dataframe\n",
    "for index, row in extracted_df.iterrows():\n",
    "    bounds = eval(row['BOUNDS'])  # Convert the string representation of the list to an actual list\n",
    "    xlat = row['XLAT']\n",
    "    xlon = row['XLON']\n",
    "    activity_index = row['ACTIVITY_INDEX_TOTAL']\n",
    "    \n",
    "    if is_within_bounds(xlat, xlon, bounds):\n",
    "        grid_cell = (bounds[0], bounds[1], bounds[2], bounds[3])\n",
    "        if grid_cell not in activity_totals:\n",
    "            activity_totals[grid_cell] = 0\n",
    "            activity_counts[grid_cell] = 0\n",
    "        \n",
    "        activity_totals[grid_cell] += activity_index\n",
    "        activity_counts[grid_cell] += 1\n",
    "\n",
    "# Compute the average activity index for each grid cell\n",
    "average_activity_index = {cell: activity_totals[cell] / activity_counts[cell] for cell in activity_totals}\n",
    "\n",
    "# Convert the result to a DataFrame and save it\n",
    "average_activity_df = pd.DataFrame({\n",
    "    'Lower_Left_Lon': [cell[0] for cell in average_activity_index.keys()],\n",
    "    'Lower_Left_Lat': [cell[1] for cell in average_activity_index.keys()],\n",
    "    'Upper_Right_Lon': [cell[2] for cell in average_activity_index.keys()],\n",
    "    'Upper_Right_Lat': [cell[3] for cell in average_activity_index.keys()],\n",
    "    'Average_Activity_Index': list(average_activity_index.values())\n",
    "})\n",
    "\n",
    "average_activity_df.to_csv('average_activity_index.csv', index=False)\n"
   ]
  },
  {
   "cell_type": "code",
   "execution_count": null,
   "id": "683260c5-fbac-4a4c-975f-6d0800383e48",
   "metadata": {},
   "outputs": [],
   "source": []
  },
  {
   "cell_type": "code",
   "execution_count": null,
   "id": "a9dc3087-3330-4c52-a804-4523bfe81f41",
   "metadata": {},
   "outputs": [],
   "source": []
  },
  {
   "cell_type": "code",
   "execution_count": null,
   "id": "528ae272-85fb-409c-ba5e-5cca242743ed",
   "metadata": {},
   "outputs": [],
   "source": []
  }
 ],
 "metadata": {
  "kernelspec": {
   "display_name": "Python 3 (ipykernel)",
   "language": "python",
   "name": "python3"
  },
  "language_info": {
   "codemirror_mode": {
    "name": "ipython",
    "version": 3
   },
   "file_extension": ".py",
   "mimetype": "text/x-python",
   "name": "python",
   "nbconvert_exporter": "python",
   "pygments_lexer": "ipython3",
   "version": "3.8.19"
  }
 },
 "nbformat": 4,
 "nbformat_minor": 5
}
