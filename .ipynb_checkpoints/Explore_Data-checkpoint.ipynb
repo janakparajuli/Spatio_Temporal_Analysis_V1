{
 "cells": [
  {
   "cell_type": "code",
   "execution_count": null,
   "id": "7af8dacb-0cd9-467a-85fb-76662fcb19c3",
   "metadata": {},
   "outputs": [],
   "source": [
    "#!pip install polars"
   ]
  },
  {
   "cell_type": "code",
   "execution_count": null,
   "id": "e9f061ec-cc14-4725-b6a8-558ed30ee069",
   "metadata": {},
   "outputs": [],
   "source": []
  },
  {
   "cell_type": "markdown",
   "id": "040a47f9-015b-42db-9bf1-7b27d59c4f4f",
   "metadata": {},
   "source": [
    "### Try on chunks to resolve memory error"
   ]
  },
  {
   "cell_type": "code",
   "execution_count": 1,
   "id": "b272d710-958c-4492-9b0a-cbf4112e3bb8",
   "metadata": {},
   "outputs": [],
   "source": [
    "import pandas as pd\n",
    "import ast"
   ]
  },
  {
   "cell_type": "code",
   "execution_count": 2,
   "id": "ef320f61-518d-4d77-87e6-b6e65c598b5c",
   "metadata": {},
   "outputs": [],
   "source": [
    "# Load the CSV file in chunks to handle large data efficiently\n",
    "chunksize = 2500000\n",
    "chunks = pd.read_csv('./csv/nrw_hai_extracted.csv', chunksize=chunksize)\n",
    "\n",
    "# Initialize an empty DataFrame to hold the processed data\n",
    "result_df = pd.DataFrame()"
   ]
  },
  {
   "cell_type": "code",
   "execution_count": 3,
   "id": "71597a63-540e-4f79-9773-1c168ac7e977",
   "metadata": {},
   "outputs": [],
   "source": [
    "# Function to calculate the centroid of the bounds\n",
    "def calculate_centroid(bounds):\n",
    "    lower_left_lon, lower_left_lat, upper_right_lon, upper_right_lat = bounds\n",
    "    centroid_lon = (lower_left_lon + upper_right_lon) / 2\n",
    "    centroid_lat = (lower_left_lat + upper_right_lat) / 2\n",
    "    return centroid_lat, centroid_lon"
   ]
  },
  {
   "cell_type": "code",
   "execution_count": 5,
   "id": "675a4083-3eef-4410-9a94-02a697d47fcc",
   "metadata": {},
   "outputs": [],
   "source": [
    "# Process each chunk\n",
    "for chunk in chunks:\n",
    "    # Extract the required fields\n",
    "    extracted_chunk = chunk[['AGG_DAY_PERIOD', 'BOUNDS', 'ACTIVITY_INDEX_TOTAL']].copy()\n",
    "    \n",
    "    # Parse the BOUNDS field and calculate the centroid for each bound\n",
    "    extracted_chunk['BOUNDS'] = extracted_chunk['BOUNDS'].apply(lambda x: tuple(ast.literal_eval(x)))  # Safely parse the list from string and convert to tuple\n",
    "    extracted_chunk[['CENTROID_LAT', 'CENTROID_LON']] = extracted_chunk['BOUNDS'].apply(lambda b: pd.Series(calculate_centroid(b)))\n",
    "    \n",
    "    # Group by AGG_DAY_PERIOD and BOUNDS and compute the mean ACTIVITY_INDEX_TOTAL\n",
    "    grouped_chunk = extracted_chunk.groupby(['AGG_DAY_PERIOD', 'BOUNDS', 'CENTROID_LAT', 'CENTROID_LON'], as_index=False).agg({\n",
    "        'ACTIVITY_INDEX_TOTAL': 'mean'\n",
    "    }).rename(columns={'ACTIVITY_INDEX_TOTAL': 'MEAN_ACTIVITY_INDEX_TOTAL'})\n",
    "    \n",
    "    # Append the processed chunk to the result DataFrame\n",
    "    result_df = pd.concat([result_df, grouped_chunk], ignore_index=True)"
   ]
  },
  {
   "cell_type": "code",
   "execution_count": 6,
   "id": "2fc596d5-2507-4a1a-88ac-0e2ea424ddf7",
   "metadata": {},
   "outputs": [
    {
     "name": "stdout",
     "output_type": "stream",
     "text": [
      "The CSV file has been created successfully.\n"
     ]
    }
   ],
   "source": [
    "# Save the resulting DataFrame to a new CSV file\n",
    "result_df.to_csv('mean_activity_index_per_day_bounds.csv', index=False)\n",
    "\n",
    "print(\"The CSV file has been created successfully.\")"
   ]
  },
  {
   "cell_type": "code",
   "execution_count": 10,
   "id": "8dd517ed-95b1-4487-b5a1-e48dfadbe124",
   "metadata": {},
   "outputs": [
    {
     "data": {
      "text/plain": [
       "AGG_DAY_PERIOD                   347\n",
       "BOUNDS                       3005863\n",
       "CENTROID_LAT                    3072\n",
       "CENTROID_LON                    2896\n",
       "MEAN_ACTIVITY_INDEX_TOTAL     493526\n",
       "dtype: int64"
      ]
     },
     "execution_count": 10,
     "metadata": {},
     "output_type": "execute_result"
    }
   ],
   "source": [
    "result_df.nunique()"
   ]
  },
  {
   "cell_type": "code",
   "execution_count": null,
   "id": "be67292f-3dd8-4424-a133-dd9136b10ecd",
   "metadata": {},
   "outputs": [],
   "source": []
  },
  {
   "cell_type": "code",
   "execution_count": 11,
   "id": "7069fb85-5b99-4f96-a490-8554728ac5d6",
   "metadata": {},
   "outputs": [
    {
     "data": {
      "text/plain": [
       "49657947"
      ]
     },
     "execution_count": 11,
     "metadata": {},
     "output_type": "execute_result"
    }
   ],
   "source": [
    "len(result_df)"
   ]
  },
  {
   "cell_type": "code",
   "execution_count": null,
   "id": "ff4c1008-ca4b-404b-9577-b742687fce9e",
   "metadata": {},
   "outputs": [],
   "source": []
  },
  {
   "cell_type": "code",
   "execution_count": null,
   "id": "3882bc85-ab4d-4d42-8835-fa5addda64cb",
   "metadata": {},
   "outputs": [],
   "source": []
  },
  {
   "cell_type": "code",
   "execution_count": null,
   "id": "2277d26b-3041-4026-9741-e2b5855c005d",
   "metadata": {},
   "outputs": [],
   "source": []
  }
 ],
 "metadata": {
  "kernelspec": {
   "display_name": "Python 3 (ipykernel)",
   "language": "python",
   "name": "python3"
  },
  "language_info": {
   "codemirror_mode": {
    "name": "ipython",
    "version": 3
   },
   "file_extension": ".py",
   "mimetype": "text/x-python",
   "name": "python",
   "nbconvert_exporter": "python",
   "pygments_lexer": "ipython3",
   "version": "3.8.19"
  }
 },
 "nbformat": 4,
 "nbformat_minor": 5
}
