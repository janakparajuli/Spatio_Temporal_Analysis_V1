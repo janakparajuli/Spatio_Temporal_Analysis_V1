{
 "cells": [
  {
   "cell_type": "code",
   "execution_count": null,
   "id": "7af8dacb-0cd9-467a-85fb-76662fcb19c3",
   "metadata": {},
   "outputs": [],
   "source": []
  },
  {
   "cell_type": "code",
   "execution_count": null,
   "id": "e9f061ec-cc14-4725-b6a8-558ed30ee069",
   "metadata": {},
   "outputs": [],
   "source": []
  },
  {
   "cell_type": "code",
   "execution_count": 1,
   "id": "3d020352-2238-4303-b422-ff5121a77000",
   "metadata": {},
   "outputs": [],
   "source": [
    "import pandas as pd\n",
    "import numpy as np"
   ]
  },
  {
   "cell_type": "code",
   "execution_count": 2,
   "id": "8542b806-27d3-4761-963d-cb5121b25866",
   "metadata": {},
   "outputs": [],
   "source": [
    "### Read csv file\n",
    "df = pd.read_csv('./csv/nrw_hai_extracted.csv')"
   ]
  },
  {
   "cell_type": "code",
   "execution_count": 3,
   "id": "f15ffa6b-965c-48b9-977b-ea50dedf49b2",
   "metadata": {},
   "outputs": [
    {
     "data": {
      "text/plain": [
       "AGG_DAY_PERIOD              366\n",
       "BOUNDS                  3036097\n",
       "XLAT                       3072\n",
       "XLON                       2896\n",
       "ACTIVITY_INDEX_TOTAL     390247\n",
       "dtype: int64"
      ]
     },
     "execution_count": 3,
     "metadata": {},
     "output_type": "execute_result"
    }
   ],
   "source": [
    "df.nunique()"
   ]
  },
  {
   "cell_type": "code",
   "execution_count": 4,
   "id": "c32da4b7-489b-43d1-afd3-1d35853e6bf7",
   "metadata": {},
   "outputs": [
    {
     "data": {
      "text/plain": [
       "52343230"
      ]
     },
     "execution_count": 4,
     "metadata": {},
     "output_type": "execute_result"
    }
   ],
   "source": [
    "len(df)"
   ]
  },
  {
   "cell_type": "code",
   "execution_count": 8,
   "id": "9d8221d1-970b-46fd-a327-4221be8491bd",
   "metadata": {},
   "outputs": [],
   "source": [
    "#x_df=df.groupby(['AGG_DAY_PERIOD', 'BOUNDS'], as_index=False).mean()\n",
    "del x_df"
   ]
  },
  {
   "cell_type": "code",
   "execution_count": 9,
   "id": "99a9159b-c95e-4555-b8d0-ed06818b7fa4",
   "metadata": {},
   "outputs": [],
   "source": [
    "# Group by AGG_DAY_PERIOD and BOUNDS and compute the mean ACTIVITY_INDEX_TOTAL\n",
    "grouped_df = df.groupby(['AGG_DAY_PERIOD', 'BOUNDS'], as_index=False).agg({'ACTIVITY_INDEX_TOTAL': 'mean'})#.rename(columns={'ACTIVITY_INDEX_TOTAL': 'MEAN_ACTIVITY_INDEX_TOTAL'})"
   ]
  },
  {
   "cell_type": "code",
   "execution_count": 35,
   "id": "9b39f493-b10e-479c-a3df-23bc80c94249",
   "metadata": {},
   "outputs": [
    {
     "data": {
      "text/html": [
       "<div>\n",
       "<style scoped>\n",
       "    .dataframe tbody tr th:only-of-type {\n",
       "        vertical-align: middle;\n",
       "    }\n",
       "\n",
       "    .dataframe tbody tr th {\n",
       "        vertical-align: top;\n",
       "    }\n",
       "\n",
       "    .dataframe thead th {\n",
       "        text-align: right;\n",
       "    }\n",
       "</style>\n",
       "<table border=\"1\" class=\"dataframe\">\n",
       "  <thead>\n",
       "    <tr style=\"text-align: right;\">\n",
       "      <th></th>\n",
       "      <th>AGG_DAY_PERIOD</th>\n",
       "      <th>BOUNDS</th>\n",
       "      <th>ACTIVITY_INDEX_TOTAL</th>\n",
       "    </tr>\n",
       "  </thead>\n",
       "  <tbody>\n",
       "    <tr>\n",
       "      <th>50000000</th>\n",
       "      <td>2020-12-10</td>\n",
       "      <td>[\\n  9.518280029296875e+00,\\n  5.2347085391106...</td>\n",
       "      <td>0.064982</td>\n",
       "    </tr>\n",
       "    <tr>\n",
       "      <th>50000001</th>\n",
       "      <td>2020-12-10</td>\n",
       "      <td>[\\n  9.518280029296875e+00,\\n  5.2407445753192...</td>\n",
       "      <td>0.247550</td>\n",
       "    </tr>\n",
       "    <tr>\n",
       "      <th>50000002</th>\n",
       "      <td>2020-12-10</td>\n",
       "      <td>[\\n  9.518280029296875e+00,\\n  5.2414147367821...</td>\n",
       "      <td>0.019615</td>\n",
       "    </tr>\n",
       "    <tr>\n",
       "      <th>50000003</th>\n",
       "      <td>2020-12-10</td>\n",
       "      <td>[\\n  9.518280029296875e+00,\\n  5.2426710150871...</td>\n",
       "      <td>0.104839</td>\n",
       "    </tr>\n",
       "    <tr>\n",
       "      <th>50000004</th>\n",
       "      <td>2020-12-10</td>\n",
       "      <td>[\\n  9.518280029296875e+00,\\n  5.2434246102623...</td>\n",
       "      <td>0.018592</td>\n",
       "    </tr>\n",
       "    <tr>\n",
       "      <th>50000005</th>\n",
       "      <td>2020-12-10</td>\n",
       "      <td>[\\n  9.518280029296875e+00,\\n  5.2457683046545...</td>\n",
       "      <td>0.069178</td>\n",
       "    </tr>\n",
       "    <tr>\n",
       "      <th>50000006</th>\n",
       "      <td>2020-12-10</td>\n",
       "      <td>[\\n  9.518280029296875e+00,\\n  5.2458519849642...</td>\n",
       "      <td>0.069772</td>\n",
       "    </tr>\n",
       "    <tr>\n",
       "      <th>50000007</th>\n",
       "      <td>2020-12-10</td>\n",
       "      <td>[\\n  9.518280029296875e+00,\\n  5.2461866903001...</td>\n",
       "      <td>0.179577</td>\n",
       "    </tr>\n",
       "    <tr>\n",
       "      <th>50000008</th>\n",
       "      <td>2020-12-10</td>\n",
       "      <td>[\\n  9.519653320312500e+00,\\n  5.1267929925864...</td>\n",
       "      <td>0.159727</td>\n",
       "    </tr>\n",
       "  </tbody>\n",
       "</table>\n",
       "</div>"
      ],
      "text/plain": [
       "         AGG_DAY_PERIOD                                             BOUNDS  \\\n",
       "50000000     2020-12-10  [\\n  9.518280029296875e+00,\\n  5.2347085391106...   \n",
       "50000001     2020-12-10  [\\n  9.518280029296875e+00,\\n  5.2407445753192...   \n",
       "50000002     2020-12-10  [\\n  9.518280029296875e+00,\\n  5.2414147367821...   \n",
       "50000003     2020-12-10  [\\n  9.518280029296875e+00,\\n  5.2426710150871...   \n",
       "50000004     2020-12-10  [\\n  9.518280029296875e+00,\\n  5.2434246102623...   \n",
       "50000005     2020-12-10  [\\n  9.518280029296875e+00,\\n  5.2457683046545...   \n",
       "50000006     2020-12-10  [\\n  9.518280029296875e+00,\\n  5.2458519849642...   \n",
       "50000007     2020-12-10  [\\n  9.518280029296875e+00,\\n  5.2461866903001...   \n",
       "50000008     2020-12-10  [\\n  9.519653320312500e+00,\\n  5.1267929925864...   \n",
       "\n",
       "          ACTIVITY_INDEX_TOTAL  \n",
       "50000000              0.064982  \n",
       "50000001              0.247550  \n",
       "50000002              0.019615  \n",
       "50000003              0.104839  \n",
       "50000004              0.018592  \n",
       "50000005              0.069178  \n",
       "50000006              0.069772  \n",
       "50000007              0.179577  \n",
       "50000008              0.159727  "
      ]
     },
     "execution_count": 35,
     "metadata": {},
     "output_type": "execute_result"
    }
   ],
   "source": [
    "grouped_df.head(100000000000)[50000000:50000009]"
   ]
  },
  {
   "cell_type": "code",
   "execution_count": 11,
   "id": "fefc58e3-d07e-4c92-b024-b5319593b3e2",
   "metadata": {},
   "outputs": [
    {
     "data": {
      "text/plain": [
       "AGG_DAY_PERIOD              366\n",
       "BOUNDS                  3036097\n",
       "ACTIVITY_INDEX_TOTAL     514692\n",
       "dtype: int64"
      ]
     },
     "execution_count": 11,
     "metadata": {},
     "output_type": "execute_result"
    }
   ],
   "source": [
    "grouped_df.nunique()"
   ]
  },
  {
   "cell_type": "code",
   "execution_count": 17,
   "id": "c2945641-c637-4d37-b965-dc2d39ed7dcf",
   "metadata": {},
   "outputs": [
    {
     "data": {
      "text/plain": [
       "52143374"
      ]
     },
     "execution_count": 17,
     "metadata": {},
     "output_type": "execute_result"
    }
   ],
   "source": [
    "len(grouped_df['ACTIVITY_INDEX_TOTAL'])\n",
    "#grouped_df.to_csv('./csv/grouped_csv.csv')"
   ]
  },
  {
   "cell_type": "code",
   "execution_count": 36,
   "id": "25fb8193-7d71-49ab-aa26-91141d9575ce",
   "metadata": {},
   "outputs": [],
   "source": [
    "# Function to calculate the centroid of the bounds\n",
    "def calculate_centroid(bounds):\n",
    "    lower_left_lon, lower_left_lat, upper_right_lon, upper_right_lat = bounds\n",
    "    centroid_lon = (lower_left_lon + upper_right_lon) / 2\n",
    "    centroid_lat = (lower_left_lat + upper_right_lat) / 2\n",
    "    return centroid_lat, centroid_lon"
   ]
  },
  {
   "cell_type": "code",
   "execution_count": null,
   "id": "e802f774-a759-48d1-8701-15ee99619898",
   "metadata": {},
   "outputs": [],
   "source": [
    "# Parse the BOUNDS field and calculate the centroid for each bound\n",
    "grouped_df['BOUNDS'] = grouped_df['BOUNDS'].apply(eval)  # Convert the string representation of the list to an actual list"
   ]
  },
  {
   "cell_type": "code",
   "execution_count": null,
   "id": "d9d82bde-33ea-4615-8d60-2bbafd91a946",
   "metadata": {},
   "outputs": [],
   "source": [
    "grouped_df[['CENTROID_LAT', 'CENTROID_LON']] = grouped_df['BOUNDS'].apply(lambda b: pd.Series(calculate_centroid(b)))"
   ]
  },
  {
   "cell_type": "code",
   "execution_count": null,
   "id": "fe0f304a-3460-4307-96f0-237d2034863b",
   "metadata": {},
   "outputs": [],
   "source": []
  },
  {
   "cell_type": "code",
   "execution_count": null,
   "id": "ec22c0cc-b7f3-447d-98ca-c1c07b8af231",
   "metadata": {},
   "outputs": [],
   "source": []
  },
  {
   "cell_type": "code",
   "execution_count": null,
   "id": "a8d36828-f99d-490e-85d6-7847552ca3ab",
   "metadata": {},
   "outputs": [],
   "source": []
  },
  {
   "cell_type": "code",
   "execution_count": null,
   "id": "a2fbb4c3-49f0-438d-ba82-913a7aa5d455",
   "metadata": {},
   "outputs": [],
   "source": []
  },
  {
   "cell_type": "code",
   "execution_count": null,
   "id": "1c5437e5-ed24-4935-84c4-95c15cd109f7",
   "metadata": {},
   "outputs": [],
   "source": [
    "# Function to calculate the centroid of the bounds\n",
    "def calculate_centroid(bounds):\n",
    "    lower_left_lon, lower_left_lat, upper_right_lon, upper_right_lat = bounds\n",
    "    centroid_lon = (lower_left_lon + upper_right_lon) / 2\n",
    "    centroid_lat = (lower_left_lat + upper_right_lat) / 2\n",
    "    return centroid_lat, centroid_lon\n",
    "\n",
    "# Parse the BOUNDS field and calculate the centroid for each bound\n",
    "extracted_df['BOUNDS'] = extracted_df['BOUNDS'].apply(eval)  # Convert the string representation of the list to an actual list\n",
    "extracted_df[['CENTROID_LAT', 'CENTROID_LON']] = extracted_df['BOUNDS'].apply(lambda b: pd.Series(calculate_centroid(b)))\n",
    "\n",
    "# Group by AGG_DAY_PERIOD and BOUNDS and compute the mean ACTIVITY_INDEX_TOTAL\n",
    "grouped_df = extracted_df.groupby(['AGG_DAY_PERIOD', 'BOUNDS', 'CENTROID_LAT', 'CENTROID_LON'], as_index=False).agg({\n",
    "    'ACTIVITY_INDEX_TOTAL': 'mean'\n",
    "}).rename(columns={'ACTIVITY_INDEX_TOTAL': 'MEAN_ACTIVITY_INDEX_TOTAL'})\n",
    "\n",
    "# Save the resulting DataFrame to a new CSV file\n",
    "grouped_df.to_csv('mean_activity_index_per_day_bounds.csv', index=False)\n",
    "\n",
    "print(\"The CSV file has been created successfully.\")\n"
   ]
  },
  {
   "cell_type": "code",
   "execution_count": null,
   "id": "be67292f-3dd8-4424-a133-dd9136b10ecd",
   "metadata": {},
   "outputs": [],
   "source": []
  },
  {
   "cell_type": "code",
   "execution_count": null,
   "id": "7069fb85-5b99-4f96-a490-8554728ac5d6",
   "metadata": {},
   "outputs": [],
   "source": []
  },
  {
   "cell_type": "code",
   "execution_count": null,
   "id": "ff4c1008-ca4b-404b-9577-b742687fce9e",
   "metadata": {},
   "outputs": [],
   "source": []
  },
  {
   "cell_type": "code",
   "execution_count": null,
   "id": "3882bc85-ab4d-4d42-8835-fa5addda64cb",
   "metadata": {},
   "outputs": [],
   "source": []
  },
  {
   "cell_type": "code",
   "execution_count": null,
   "id": "2277d26b-3041-4026-9741-e2b5855c005d",
   "metadata": {},
   "outputs": [],
   "source": []
  }
 ],
 "metadata": {
  "kernelspec": {
   "display_name": "Python 3 (ipykernel)",
   "language": "python",
   "name": "python3"
  },
  "language_info": {
   "codemirror_mode": {
    "name": "ipython",
    "version": 3
   },
   "file_extension": ".py",
   "mimetype": "text/x-python",
   "name": "python",
   "nbconvert_exporter": "python",
   "pygments_lexer": "ipython3",
   "version": "3.8.19"
  }
 },
 "nbformat": 4,
 "nbformat_minor": 5
}
