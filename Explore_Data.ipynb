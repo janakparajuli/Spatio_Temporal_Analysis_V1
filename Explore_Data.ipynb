{
 "cells": [
  {
   "cell_type": "code",
   "execution_count": null,
   "id": "7af8dacb-0cd9-467a-85fb-76662fcb19c3",
   "metadata": {},
   "outputs": [],
   "source": []
  },
  {
   "cell_type": "code",
   "execution_count": null,
   "id": "e9f061ec-cc14-4725-b6a8-558ed30ee069",
   "metadata": {},
   "outputs": [],
   "source": []
  },
  {
   "cell_type": "code",
   "execution_count": 2,
   "id": "3d020352-2238-4303-b422-ff5121a77000",
   "metadata": {},
   "outputs": [],
   "source": [
    "import pandas as pd\n",
    "import numpy as np"
   ]
  },
  {
   "cell_type": "code",
   "execution_count": 3,
   "id": "8542b806-27d3-4761-963d-cb5121b25866",
   "metadata": {},
   "outputs": [],
   "source": [
    "### Read csv file\n",
    "df = pd.read_csv('./csv/nrw_hai_extracted.csv')"
   ]
  },
  {
   "cell_type": "code",
   "execution_count": 4,
   "id": "f15ffa6b-965c-48b9-977b-ea50dedf49b2",
   "metadata": {},
   "outputs": [
    {
     "data": {
      "text/plain": [
       "AGG_DAY_PERIOD              366\n",
       "BOUNDS                  3036097\n",
       "XLAT                       3072\n",
       "XLON                       2896\n",
       "ACTIVITY_INDEX_TOTAL     390247\n",
       "dtype: int64"
      ]
     },
     "execution_count": 4,
     "metadata": {},
     "output_type": "execute_result"
    }
   ],
   "source": [
    "df.nunique()"
   ]
  },
  {
   "cell_type": "code",
   "execution_count": 5,
   "id": "c32da4b7-489b-43d1-afd3-1d35853e6bf7",
   "metadata": {},
   "outputs": [
    {
     "data": {
      "text/plain": [
       "52343230"
      ]
     },
     "execution_count": 5,
     "metadata": {},
     "output_type": "execute_result"
    }
   ],
   "source": [
    "len(df)"
   ]
  },
  {
   "cell_type": "code",
   "execution_count": 10,
   "id": "9d8221d1-970b-46fd-a327-4221be8491bd",
   "metadata": {},
   "outputs": [
    {
     "data": {
      "text/plain": [
       "0"
      ]
     },
     "execution_count": 10,
     "metadata": {},
     "output_type": "execute_result"
    }
   ],
   "source": [
    "df.isnull().sum().sum()"
   ]
  },
  {
   "cell_type": "code",
   "execution_count": null,
   "id": "1c5437e5-ed24-4935-84c4-95c15cd109f7",
   "metadata": {},
   "outputs": [],
   "source": [
    "df.pivot_table(index = ['BOUNDS', 'XLAT', 'XLON'], aggfunc ='size')"
   ]
  },
  {
   "cell_type": "code",
   "execution_count": null,
   "id": "be67292f-3dd8-4424-a133-dd9136b10ecd",
   "metadata": {},
   "outputs": [],
   "source": []
  },
  {
   "cell_type": "code",
   "execution_count": null,
   "id": "7069fb85-5b99-4f96-a490-8554728ac5d6",
   "metadata": {},
   "outputs": [],
   "source": []
  },
  {
   "cell_type": "code",
   "execution_count": null,
   "id": "ff4c1008-ca4b-404b-9577-b742687fce9e",
   "metadata": {},
   "outputs": [],
   "source": []
  },
  {
   "cell_type": "code",
   "execution_count": null,
   "id": "3882bc85-ab4d-4d42-8835-fa5addda64cb",
   "metadata": {},
   "outputs": [],
   "source": []
  },
  {
   "cell_type": "code",
   "execution_count": null,
   "id": "2277d26b-3041-4026-9741-e2b5855c005d",
   "metadata": {},
   "outputs": [],
   "source": []
  }
 ],
 "metadata": {
  "kernelspec": {
   "display_name": "Python 3 (ipykernel)",
   "language": "python",
   "name": "python3"
  },
  "language_info": {
   "codemirror_mode": {
    "name": "ipython",
    "version": 3
   },
   "file_extension": ".py",
   "mimetype": "text/x-python",
   "name": "python",
   "nbconvert_exporter": "python",
   "pygments_lexer": "ipython3",
   "version": "3.8.19"
  }
 },
 "nbformat": 4,
 "nbformat_minor": 5
}
