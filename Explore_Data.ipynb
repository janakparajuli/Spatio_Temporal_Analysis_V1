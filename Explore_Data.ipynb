{
 "cells": [
  {
   "cell_type": "code",
   "execution_count": null,
   "id": "7af8dacb-0cd9-467a-85fb-76662fcb19c3",
   "metadata": {},
   "outputs": [],
   "source": [
    "#!pip install polars"
   ]
  },
  {
   "cell_type": "code",
   "execution_count": null,
   "id": "e9f061ec-cc14-4725-b6a8-558ed30ee069",
   "metadata": {},
   "outputs": [],
   "source": []
  },
  {
   "cell_type": "code",
   "execution_count": 1,
   "id": "3d020352-2238-4303-b422-ff5121a77000",
   "metadata": {},
   "outputs": [],
   "source": [
    "import pandas as pd\n",
    "import numpy as np\n",
    "import polars as pl\n",
    "import ast"
   ]
  },
  {
   "cell_type": "code",
   "execution_count": null,
   "id": "8542b806-27d3-4761-963d-cb5121b25866",
   "metadata": {},
   "outputs": [],
   "source": [
    "### Read csv file\n",
    "df = pd.read_csv('./csv/nrw_hai_extracted.csv')"
   ]
  },
  {
   "cell_type": "code",
   "execution_count": null,
   "id": "f15ffa6b-965c-48b9-977b-ea50dedf49b2",
   "metadata": {},
   "outputs": [],
   "source": [
    "df.nunique()"
   ]
  },
  {
   "cell_type": "code",
   "execution_count": null,
   "id": "c32da4b7-489b-43d1-afd3-1d35853e6bf7",
   "metadata": {},
   "outputs": [],
   "source": [
    "len(df)"
   ]
  },
  {
   "cell_type": "code",
   "execution_count": null,
   "id": "9d8221d1-970b-46fd-a327-4221be8491bd",
   "metadata": {},
   "outputs": [],
   "source": [
    "#x_df=df.groupby(['AGG_DAY_PERIOD', 'BOUNDS'], as_index=False).mean()\n",
    "del x_df"
   ]
  },
  {
   "cell_type": "code",
   "execution_count": null,
   "id": "99a9159b-c95e-4555-b8d0-ed06818b7fa4",
   "metadata": {},
   "outputs": [],
   "source": [
    "# Group by AGG_DAY_PERIOD and BOUNDS and compute the mean ACTIVITY_INDEX_TOTAL\n",
    "grouped_df = df.groupby(['AGG_DAY_PERIOD', 'BOUNDS'], as_index=False).agg({'ACTIVITY_INDEX_TOTAL': 'mean'})#.rename(columns={'ACTIVITY_INDEX_TOTAL': 'MEAN_ACTIVITY_INDEX_TOTAL'})"
   ]
  },
  {
   "cell_type": "code",
   "execution_count": null,
   "id": "9b39f493-b10e-479c-a3df-23bc80c94249",
   "metadata": {},
   "outputs": [],
   "source": [
    "grouped_df.head(100000000000)[50000000:50000009]"
   ]
  },
  {
   "cell_type": "code",
   "execution_count": null,
   "id": "fefc58e3-d07e-4c92-b024-b5319593b3e2",
   "metadata": {},
   "outputs": [],
   "source": [
    "grouped_df.nunique()"
   ]
  },
  {
   "cell_type": "code",
   "execution_count": null,
   "id": "c2945641-c637-4d37-b965-dc2d39ed7dcf",
   "metadata": {},
   "outputs": [],
   "source": [
    "len(grouped_df['ACTIVITY_INDEX_TOTAL'])\n",
    "#grouped_df.to_csv('./csv/grouped_csv.csv')"
   ]
  },
  {
   "cell_type": "code",
   "execution_count": 2,
   "id": "19a4d3ff-559c-4917-b8b6-30f30a4c0b1b",
   "metadata": {},
   "outputs": [],
   "source": [
    "df=pl.read_csv('./csv/grouped_csv.csv')"
   ]
  },
  {
   "cell_type": "code",
   "execution_count": 3,
   "id": "9da142b0-460d-411a-963d-00287bb93332",
   "metadata": {},
   "outputs": [
    {
     "data": {
      "text/html": [
       "<div><style>\n",
       ".dataframe > thead > tr,\n",
       ".dataframe > tbody > tr {\n",
       "  text-align: right;\n",
       "  white-space: pre-wrap;\n",
       "}\n",
       "</style>\n",
       "<small>shape: (5, 4)</small><table border=\"1\" class=\"dataframe\"><thead><tr><th></th><th>AGG_DAY_PERIOD</th><th>BOUNDS</th><th>ACTIVITY_INDEX_TOTAL</th></tr><tr><td>i64</td><td>str</td><td>str</td><td>f64</td></tr></thead><tbody><tr><td>0</td><td>&quot;2020-01-01&quot;</td><td>&quot;[\n",
       "  5.873565673828125e+00,\n",
       "  5…</td><td>0.176889</td></tr><tr><td>1</td><td>&quot;2020-01-01&quot;</td><td>&quot;[\n",
       "  5.874938964843750e+00,\n",
       "  5…</td><td>0.011054</td></tr><tr><td>2</td><td>&quot;2020-01-01&quot;</td><td>&quot;[\n",
       "  5.876312255859375e+00,\n",
       "  5…</td><td>0.04713</td></tr><tr><td>3</td><td>&quot;2020-01-01&quot;</td><td>&quot;[\n",
       "  5.876312255859375e+00,\n",
       "  5…</td><td>0.13025</td></tr><tr><td>4</td><td>&quot;2020-01-01&quot;</td><td>&quot;[\n",
       "  5.876312255859375e+00,\n",
       "  5…</td><td>0.154947</td></tr></tbody></table></div>"
      ],
      "text/plain": [
       "shape: (5, 4)\n",
       "┌─────┬────────────────┬──────────────────────────┬──────────────────────┐\n",
       "│     ┆ AGG_DAY_PERIOD ┆ BOUNDS                   ┆ ACTIVITY_INDEX_TOTAL │\n",
       "│ --- ┆ ---            ┆ ---                      ┆ ---                  │\n",
       "│ i64 ┆ str            ┆ str                      ┆ f64                  │\n",
       "╞═════╪════════════════╪══════════════════════════╪══════════════════════╡\n",
       "│ 0   ┆ 2020-01-01     ┆ [                        ┆ 0.176889             │\n",
       "│     ┆                ┆   5.873565673828125e+00, ┆                      │\n",
       "│     ┆                ┆   5…                     ┆                      │\n",
       "│ 1   ┆ 2020-01-01     ┆ [                        ┆ 0.011054             │\n",
       "│     ┆                ┆   5.874938964843750e+00, ┆                      │\n",
       "│     ┆                ┆   5…                     ┆                      │\n",
       "│ 2   ┆ 2020-01-01     ┆ [                        ┆ 0.04713              │\n",
       "│     ┆                ┆   5.876312255859375e+00, ┆                      │\n",
       "│     ┆                ┆   5…                     ┆                      │\n",
       "│ 3   ┆ 2020-01-01     ┆ [                        ┆ 0.13025              │\n",
       "│     ┆                ┆   5.876312255859375e+00, ┆                      │\n",
       "│     ┆                ┆   5…                     ┆                      │\n",
       "│ 4   ┆ 2020-01-01     ┆ [                        ┆ 0.154947             │\n",
       "│     ┆                ┆   5.876312255859375e+00, ┆                      │\n",
       "│     ┆                ┆   5…                     ┆                      │\n",
       "└─────┴────────────────┴──────────────────────────┴──────────────────────┘"
      ]
     },
     "execution_count": 3,
     "metadata": {},
     "output_type": "execute_result"
    }
   ],
   "source": [
    "df=pl.DataFrame(df)\n",
    "df.head()"
   ]
  },
  {
   "cell_type": "code",
   "execution_count": 4,
   "id": "25fb8193-7d71-49ab-aa26-91141d9575ce",
   "metadata": {},
   "outputs": [],
   "source": [
    "# Function to calculate the centroid of the bounds\n",
    "def calculate_centroid(bounds):\n",
    "    lower_left_lon, lower_left_lat, upper_right_lon, upper_right_lat = bounds\n",
    "    centroid_lon = (lower_left_lon + upper_right_lon) / 2\n",
    "    centroid_lat = (lower_left_lat + upper_right_lat) / 2\n",
    "    return centroid_lat, centroid_lon"
   ]
  },
  {
   "cell_type": "code",
   "execution_count": 11,
   "id": "2f18dbdd-0800-4ef2-8e73-56bab3f0dc70",
   "metadata": {},
   "outputs": [
    {
     "name": "stderr",
     "output_type": "stream",
     "text": [
      "C:\\Users\\janak\\AppData\\Local\\Temp\\ipykernel_23156\\3055752906.py:2: DeprecationWarning: `apply` is deprecated. It has been renamed to `map_elements`.\n",
      "  centroids = df['BOUNDS'].apply(lambda x: calculate_centroid(ast.literal_eval(x)))\n",
      "C:\\Users\\janak\\AppData\\Local\\Temp\\ipykernel_23156\\3055752906.py:2: MapWithoutReturnDtypeWarning: Calling `map_elements` without specifying `return_dtype` can lead to unpredictable results. Specify `return_dtype` to silence this warning.\n",
      "  centroids = df['BOUNDS'].apply(lambda x: calculate_centroid(ast.literal_eval(x)))\n"
     ]
    }
   ],
   "source": [
    "# Parse the BOUNDS field and calculate the centroid for each bound\n",
    "centroids = df['BOUNDS'].map_elements(lambda x: calculate_centroid(ast.literal_eval(x)), return_dtype=pl.List(pl.Float64)).alias(\"CENTROID\")"
   ]
  },
  {
   "cell_type": "code",
   "execution_count": null,
   "id": "846ae37e-11b9-4150-8343-fd66b3b7c32c",
   "metadata": {},
   "outputs": [],
   "source": []
  },
  {
   "cell_type": "code",
   "execution_count": 10,
   "id": "70972e56-c69c-4f80-bb81-672192fb2057",
   "metadata": {},
   "outputs": [],
   "source": [
    "#df.write_csv('./csv/grouped_csv_centroid')"
   ]
  },
  {
   "cell_type": "code",
   "execution_count": 9,
   "id": "f9e6603a-4c29-498b-a481-5cbde3a799b2",
   "metadata": {},
   "outputs": [
    {
     "ename": "NameError",
     "evalue": "name 'centroids' is not defined",
     "output_type": "error",
     "traceback": [
      "\u001b[1;31m---------------------------------------------------------------------------\u001b[0m",
      "\u001b[1;31mNameError\u001b[0m                                 Traceback (most recent call last)",
      "Cell \u001b[1;32mIn[9], line 2\u001b[0m\n\u001b[0;32m      1\u001b[0m \u001b[38;5;66;03m# Convert the centroids into separate columns\u001b[39;00m\n\u001b[1;32m----> 2\u001b[0m centroid_lat \u001b[38;5;241m=\u001b[39m [c[\u001b[38;5;241m0\u001b[39m] \u001b[38;5;28;01mfor\u001b[39;00m c \u001b[38;5;129;01min\u001b[39;00m \u001b[43mcentroids\u001b[49m]\n\u001b[0;32m      3\u001b[0m centroid_lon \u001b[38;5;241m=\u001b[39m [c[\u001b[38;5;241m1\u001b[39m] \u001b[38;5;28;01mfor\u001b[39;00m c \u001b[38;5;129;01min\u001b[39;00m centroids]\n",
      "\u001b[1;31mNameError\u001b[0m: name 'centroids' is not defined"
     ]
    }
   ],
   "source": [
    "# Convert the centroids into separate columns\n",
    "centroid_lat = [c[0] for c in centroids]\n",
    "centroid_lon = [c[1] for c in centroids]"
   ]
  },
  {
   "cell_type": "code",
   "execution_count": null,
   "id": "94d8a38a-d480-4e15-ac82-ba92e9749698",
   "metadata": {},
   "outputs": [
    {
     "ename": "SchemaError",
     "evalue": "invalid series dtype: expected `FixedSizeList`, got `list[f64]`",
     "output_type": "error",
     "traceback": [
      "\u001b[1;31m---------------------------------------------------------------------------\u001b[0m",
      "\u001b[1;31mSchemaError\u001b[0m                               Traceback (most recent call last)",
      "Cell \u001b[1;32mIn[8], line 2\u001b[0m\n\u001b[0;32m      1\u001b[0m \u001b[38;5;66;03m# Split the centroid into two separate columns\u001b[39;00m\n\u001b[1;32m----> 2\u001b[0m df \u001b[38;5;241m=\u001b[39m \u001b[43mdf\u001b[49m\u001b[38;5;241;43m.\u001b[39;49m\u001b[43mwith_columns\u001b[49m\u001b[43m(\u001b[49m\u001b[43m[\u001b[49m\n\u001b[0;32m      3\u001b[0m \u001b[43m    \u001b[49m\u001b[43mpl\u001b[49m\u001b[38;5;241;43m.\u001b[39;49m\u001b[43mcol\u001b[49m\u001b[43m(\u001b[49m\u001b[38;5;124;43m\"\u001b[39;49m\u001b[38;5;124;43mCENTROID\u001b[39;49m\u001b[38;5;124;43m\"\u001b[39;49m\u001b[43m)\u001b[49m\u001b[38;5;241;43m.\u001b[39;49m\u001b[43marr\u001b[49m\u001b[38;5;241;43m.\u001b[39;49m\u001b[43mget\u001b[49m\u001b[43m(\u001b[49m\u001b[38;5;241;43m0\u001b[39;49m\u001b[43m)\u001b[49m\u001b[38;5;241;43m.\u001b[39;49m\u001b[43malias\u001b[49m\u001b[43m(\u001b[49m\u001b[38;5;124;43m\"\u001b[39;49m\u001b[38;5;124;43mCENTROID_LAT\u001b[39;49m\u001b[38;5;124;43m\"\u001b[39;49m\u001b[43m)\u001b[49m\u001b[43m,\u001b[49m\n\u001b[0;32m      4\u001b[0m \u001b[43m    \u001b[49m\u001b[43mpl\u001b[49m\u001b[38;5;241;43m.\u001b[39;49m\u001b[43mcol\u001b[49m\u001b[43m(\u001b[49m\u001b[38;5;124;43m\"\u001b[39;49m\u001b[38;5;124;43mCENTROID\u001b[39;49m\u001b[38;5;124;43m\"\u001b[39;49m\u001b[43m)\u001b[49m\u001b[38;5;241;43m.\u001b[39;49m\u001b[43marr\u001b[49m\u001b[38;5;241;43m.\u001b[39;49m\u001b[43mget\u001b[49m\u001b[43m(\u001b[49m\u001b[38;5;241;43m1\u001b[39;49m\u001b[43m)\u001b[49m\u001b[38;5;241;43m.\u001b[39;49m\u001b[43malias\u001b[49m\u001b[43m(\u001b[49m\u001b[38;5;124;43m\"\u001b[39;49m\u001b[38;5;124;43mCENTROID_LON\u001b[39;49m\u001b[38;5;124;43m\"\u001b[39;49m\u001b[43m)\u001b[49m\n\u001b[0;32m      5\u001b[0m \u001b[43m]\u001b[49m\u001b[43m)\u001b[49m\u001b[38;5;241m.\u001b[39mdrop(\u001b[38;5;124m\"\u001b[39m\u001b[38;5;124mCENTROID\u001b[39m\u001b[38;5;124m\"\u001b[39m)\n",
      "File \u001b[1;32m~\\anaconda3\\envs\\python38\\lib\\site-packages\\polars\\dataframe\\frame.py:8642\u001b[0m, in \u001b[0;36mDataFrame.with_columns\u001b[1;34m(self, *exprs, **named_exprs)\u001b[0m\n\u001b[0;32m   8496\u001b[0m \u001b[38;5;28;01mdef\u001b[39;00m \u001b[38;5;21mwith_columns\u001b[39m(\n\u001b[0;32m   8497\u001b[0m     \u001b[38;5;28mself\u001b[39m,\n\u001b[0;32m   8498\u001b[0m     \u001b[38;5;241m*\u001b[39mexprs: IntoExpr \u001b[38;5;241m|\u001b[39m Iterable[IntoExpr],\n\u001b[0;32m   8499\u001b[0m     \u001b[38;5;241m*\u001b[39m\u001b[38;5;241m*\u001b[39mnamed_exprs: IntoExpr,\n\u001b[0;32m   8500\u001b[0m ) \u001b[38;5;241m-\u001b[39m\u001b[38;5;241m>\u001b[39m DataFrame:\n\u001b[0;32m   8501\u001b[0m \u001b[38;5;250m    \u001b[39m\u001b[38;5;124;03m\"\"\"\u001b[39;00m\n\u001b[0;32m   8502\u001b[0m \u001b[38;5;124;03m    Add columns to this DataFrame.\u001b[39;00m\n\u001b[0;32m   8503\u001b[0m \n\u001b[1;32m   (...)\u001b[0m\n\u001b[0;32m   8640\u001b[0m \u001b[38;5;124;03m    └─────┴──────┴─────────────┘\u001b[39;00m\n\u001b[0;32m   8641\u001b[0m \u001b[38;5;124;03m    \"\"\"\u001b[39;00m\n\u001b[1;32m-> 8642\u001b[0m     \u001b[38;5;28;01mreturn\u001b[39;00m \u001b[38;5;28;43mself\u001b[39;49m\u001b[38;5;241;43m.\u001b[39;49m\u001b[43mlazy\u001b[49m\u001b[43m(\u001b[49m\u001b[43m)\u001b[49m\u001b[38;5;241;43m.\u001b[39;49m\u001b[43mwith_columns\u001b[49m\u001b[43m(\u001b[49m\u001b[38;5;241;43m*\u001b[39;49m\u001b[43mexprs\u001b[49m\u001b[43m,\u001b[49m\u001b[43m \u001b[49m\u001b[38;5;241;43m*\u001b[39;49m\u001b[38;5;241;43m*\u001b[39;49m\u001b[43mnamed_exprs\u001b[49m\u001b[43m)\u001b[49m\u001b[38;5;241;43m.\u001b[39;49m\u001b[43mcollect\u001b[49m\u001b[43m(\u001b[49m\u001b[43m_eager\u001b[49m\u001b[38;5;241;43m=\u001b[39;49m\u001b[38;5;28;43;01mTrue\u001b[39;49;00m\u001b[43m)\u001b[49m\n",
      "File \u001b[1;32m~\\anaconda3\\envs\\python38\\lib\\site-packages\\polars\\lazyframe\\frame.py:1837\u001b[0m, in \u001b[0;36mLazyFrame.collect\u001b[1;34m(self, type_coercion, predicate_pushdown, projection_pushdown, simplify_expression, slice_pushdown, comm_subplan_elim, comm_subexpr_elim, cluster_with_columns, no_optimization, streaming, background, _eager, **_kwargs)\u001b[0m\n\u001b[0;32m   1834\u001b[0m \u001b[38;5;66;03m# Only for testing purposes atm.\u001b[39;00m\n\u001b[0;32m   1835\u001b[0m callback \u001b[38;5;241m=\u001b[39m _kwargs\u001b[38;5;241m.\u001b[39mget(\u001b[38;5;124m\"\u001b[39m\u001b[38;5;124mpost_opt_callback\u001b[39m\u001b[38;5;124m\"\u001b[39m)\n\u001b[1;32m-> 1837\u001b[0m \u001b[38;5;28;01mreturn\u001b[39;00m wrap_df(\u001b[43mldf\u001b[49m\u001b[38;5;241;43m.\u001b[39;49m\u001b[43mcollect\u001b[49m\u001b[43m(\u001b[49m\u001b[43mcallback\u001b[49m\u001b[43m)\u001b[49m)\n",
      "\u001b[1;31mSchemaError\u001b[0m: invalid series dtype: expected `FixedSizeList`, got `list[f64]`"
     ]
    }
   ],
   "source": [
    "# Add the centroid columns to the DataFrame\n",
    "df = df.with_columns([\n",
    "    pl.Series(name=\"CENTROID_LAT\", values=centroid_lat),\n",
    "    pl.Series(name=\"CENTROID_LON\", values=centroid_lon)\n",
    "])"
   ]
  },
  {
   "cell_type": "code",
   "execution_count": null,
   "id": "9f7251c5-471e-4f51-932f-f1ae2cfbc151",
   "metadata": {},
   "outputs": [],
   "source": [
    "# Save the resulting DataFrame to a new CSV file\n",
    "df.write_csv('centroid_bounds.csv')\n",
    "\n",
    "print(\"The CSV file with centroids has been created successfully.\")"
   ]
  },
  {
   "cell_type": "code",
   "execution_count": null,
   "id": "bed17af6-7418-4774-857e-1df10c7a6359",
   "metadata": {},
   "outputs": [],
   "source": []
  },
  {
   "cell_type": "code",
   "execution_count": null,
   "id": "1665b6db-c8c8-4a97-bce6-eb4a03fc6899",
   "metadata": {},
   "outputs": [],
   "source": []
  },
  {
   "cell_type": "code",
   "execution_count": null,
   "id": "684b2e8f-b738-4598-9dea-125c59d7d5e5",
   "metadata": {},
   "outputs": [],
   "source": []
  },
  {
   "cell_type": "code",
   "execution_count": null,
   "id": "f81d8237-0e70-4f87-9ccc-b9b69796acf8",
   "metadata": {},
   "outputs": [],
   "source": []
  },
  {
   "cell_type": "code",
   "execution_count": null,
   "id": "dae31e0d-e41b-4799-bc11-d1f26a3eb2f6",
   "metadata": {},
   "outputs": [],
   "source": []
  },
  {
   "cell_type": "code",
   "execution_count": null,
   "id": "e802f774-a759-48d1-8701-15ee99619898",
   "metadata": {},
   "outputs": [],
   "source": [
    "# Parse the BOUNDS field and calculate the centroid for each bound\n",
    "grouped_df['BOUNDS'] = grouped_df['BOUNDS'].apply(eval)  # Convert the string representation of the list to an actual list"
   ]
  },
  {
   "cell_type": "code",
   "execution_count": null,
   "id": "d9d82bde-33ea-4615-8d60-2bbafd91a946",
   "metadata": {},
   "outputs": [],
   "source": [
    "grouped_df[['CENTROID_LAT', 'CENTROID_LON']] = grouped_df['BOUNDS'].apply(lambda b: pd.Series(calculate_centroid(b)))"
   ]
  },
  {
   "cell_type": "code",
   "execution_count": null,
   "id": "fe0f304a-3460-4307-96f0-237d2034863b",
   "metadata": {},
   "outputs": [],
   "source": []
  },
  {
   "cell_type": "code",
   "execution_count": null,
   "id": "ec22c0cc-b7f3-447d-98ca-c1c07b8af231",
   "metadata": {},
   "outputs": [],
   "source": []
  },
  {
   "cell_type": "code",
   "execution_count": null,
   "id": "a8d36828-f99d-490e-85d6-7847552ca3ab",
   "metadata": {},
   "outputs": [],
   "source": []
  },
  {
   "cell_type": "markdown",
   "id": "040a47f9-015b-42db-9bf1-7b27d59c4f4f",
   "metadata": {},
   "source": [
    "### Try on chunks to resolve memory error"
   ]
  },
  {
   "cell_type": "code",
   "execution_count": 2,
   "id": "b272d710-958c-4492-9b0a-cbf4112e3bb8",
   "metadata": {},
   "outputs": [],
   "source": [
    "import pandas as pd\n",
    "import ast"
   ]
  },
  {
   "cell_type": "code",
   "execution_count": 5,
   "id": "ef320f61-518d-4d77-87e6-b6e65c598b5c",
   "metadata": {},
   "outputs": [],
   "source": [
    "# Load the CSV file in chunks to handle large data efficiently\n",
    "chunksize = 2500000\n",
    "chunks = pd.read_csv('./csv/nrw_hai_extracted.csv', chunksize=chunksize)\n",
    "\n",
    "# Initialize an empty DataFrame to hold the processed data\n",
    "result_df = pd.DataFrame()"
   ]
  },
  {
   "cell_type": "code",
   "execution_count": 10,
   "id": "71597a63-540e-4f79-9773-1c168ac7e977",
   "metadata": {},
   "outputs": [],
   "source": [
    "# Function to calculate the centroid of the bounds\n",
    "def calculate_centroid(bounds):\n",
    "    lower_left_lon, lower_left_lat, upper_right_lon, upper_right_lat = bounds\n",
    "    centroid_lon = (lower_left_lon + upper_right_lon) / 2\n",
    "    centroid_lat = (lower_left_lat + upper_right_lat) / 2\n",
    "    return centroid_lat, centroid_lon"
   ]
  },
  {
   "cell_type": "code",
   "execution_count": null,
   "id": "675a4083-3eef-4410-9a94-02a697d47fcc",
   "metadata": {},
   "outputs": [],
   "source": [
    "# Process each chunk\n",
    "for chunk in chunks:\n",
    "    # Extract the required fields\n",
    "    extracted_chunk = chunk[['AGG_DAY_PERIOD', 'BOUNDS', 'ACTIVITY_INDEX_TOTAL']]\n",
    "    \n",
    "    # Parse the BOUNDS field and calculate the centroid for each bound\n",
    "    extracted_chunk['BOUNDS'] = extracted_chunk['BOUNDS'].apply(ast.literal_eval)  # Safely parse the list from string\n",
    "    extracted_chunk[['CENTROID_LAT', 'CENTROID_LON']] = extracted_chunk['BOUNDS'].apply(lambda b: pd.Series(calculate_centroid(b)))"
   ]
  },
  {
   "cell_type": "code",
   "execution_count": null,
   "id": "2fc596d5-2507-4a1a-88ac-0e2ea424ddf7",
   "metadata": {},
   "outputs": [],
   "source": [
    "    \n",
    "    # Group by AGG_DAY_PERIOD and BOUNDS and compute the mean ACTIVITY_INDEX_TOTAL\n",
    "    grouped_chunk = extracted_chunk.groupby(['AGG_DAY_PERIOD', 'BOUNDS', 'CENTROID_LAT', 'CENTROID_LON'], as_index=False).agg({\n",
    "        'ACTIVITY_INDEX_TOTAL': 'mean'\n",
    "    }).rename(columns={'ACTIVITY_INDEX_TOTAL': 'MEAN_ACTIVITY_INDEX_TOTAL'})\n",
    "    \n",
    "    # Append the processed chunk to the result DataFrame\n",
    "    result_df = pd.concat([result_df, grouped_chunk], ignore_index=True)\n",
    "\n",
    "# Save the resulting DataFrame to a new CSV file\n",
    "result_df.to_csv('mean_activity_index_per_day_bounds.csv', index=False)\n",
    "\n",
    "print(\"The CSV file has been created successfully.\")"
   ]
  },
  {
   "cell_type": "code",
   "execution_count": null,
   "id": "8dd517ed-95b1-4487-b5a1-e48dfadbe124",
   "metadata": {},
   "outputs": [],
   "source": []
  },
  {
   "cell_type": "code",
   "execution_count": null,
   "id": "be67292f-3dd8-4424-a133-dd9136b10ecd",
   "metadata": {},
   "outputs": [],
   "source": []
  },
  {
   "cell_type": "code",
   "execution_count": null,
   "id": "7069fb85-5b99-4f96-a490-8554728ac5d6",
   "metadata": {},
   "outputs": [],
   "source": []
  },
  {
   "cell_type": "code",
   "execution_count": null,
   "id": "ff4c1008-ca4b-404b-9577-b742687fce9e",
   "metadata": {},
   "outputs": [],
   "source": []
  },
  {
   "cell_type": "code",
   "execution_count": null,
   "id": "3882bc85-ab4d-4d42-8835-fa5addda64cb",
   "metadata": {},
   "outputs": [],
   "source": []
  },
  {
   "cell_type": "code",
   "execution_count": null,
   "id": "2277d26b-3041-4026-9741-e2b5855c005d",
   "metadata": {},
   "outputs": [],
   "source": []
  }
 ],
 "metadata": {
  "kernelspec": {
   "display_name": "Python 3 (ipykernel)",
   "language": "python",
   "name": "python3"
  },
  "language_info": {
   "codemirror_mode": {
    "name": "ipython",
    "version": 3
   },
   "file_extension": ".py",
   "mimetype": "text/x-python",
   "name": "python",
   "nbconvert_exporter": "python",
   "pygments_lexer": "ipython3",
   "version": "3.8.19"
  }
 },
 "nbformat": 4,
 "nbformat_minor": 5
}
