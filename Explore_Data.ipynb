{
 "cells": [
  {
   "cell_type": "code",
   "execution_count": 41,
   "id": "7af8dacb-0cd9-467a-85fb-76662fcb19c3",
   "metadata": {},
   "outputs": [],
   "source": [
    "#!pip install polars"
   ]
  },
  {
   "cell_type": "code",
   "execution_count": null,
   "id": "e9f061ec-cc14-4725-b6a8-558ed30ee069",
   "metadata": {},
   "outputs": [],
   "source": []
  },
  {
   "cell_type": "code",
   "execution_count": 2,
   "id": "3d020352-2238-4303-b422-ff5121a77000",
   "metadata": {},
   "outputs": [],
   "source": [
    "import pandas as pd\n",
    "import numpy as np\n",
    "import polars as pl\n",
    "import ast"
   ]
  },
  {
   "cell_type": "code",
   "execution_count": 2,
   "id": "8542b806-27d3-4761-963d-cb5121b25866",
   "metadata": {},
   "outputs": [],
   "source": [
    "### Read csv file\n",
    "df = pd.read_csv('./csv/nrw_hai_extracted.csv')"
   ]
  },
  {
   "cell_type": "code",
   "execution_count": 3,
   "id": "f15ffa6b-965c-48b9-977b-ea50dedf49b2",
   "metadata": {},
   "outputs": [
    {
     "data": {
      "text/plain": [
       "AGG_DAY_PERIOD              366\n",
       "BOUNDS                  3036097\n",
       "XLAT                       3072\n",
       "XLON                       2896\n",
       "ACTIVITY_INDEX_TOTAL     390247\n",
       "dtype: int64"
      ]
     },
     "execution_count": 3,
     "metadata": {},
     "output_type": "execute_result"
    }
   ],
   "source": [
    "df.nunique()"
   ]
  },
  {
   "cell_type": "code",
   "execution_count": 4,
   "id": "c32da4b7-489b-43d1-afd3-1d35853e6bf7",
   "metadata": {},
   "outputs": [
    {
     "data": {
      "text/plain": [
       "52343230"
      ]
     },
     "execution_count": 4,
     "metadata": {},
     "output_type": "execute_result"
    }
   ],
   "source": [
    "len(df)"
   ]
  },
  {
   "cell_type": "code",
   "execution_count": 8,
   "id": "9d8221d1-970b-46fd-a327-4221be8491bd",
   "metadata": {},
   "outputs": [],
   "source": [
    "#x_df=df.groupby(['AGG_DAY_PERIOD', 'BOUNDS'], as_index=False).mean()\n",
    "del x_df"
   ]
  },
  {
   "cell_type": "code",
   "execution_count": 9,
   "id": "99a9159b-c95e-4555-b8d0-ed06818b7fa4",
   "metadata": {},
   "outputs": [],
   "source": [
    "# Group by AGG_DAY_PERIOD and BOUNDS and compute the mean ACTIVITY_INDEX_TOTAL\n",
    "grouped_df = df.groupby(['AGG_DAY_PERIOD', 'BOUNDS'], as_index=False).agg({'ACTIVITY_INDEX_TOTAL': 'mean'})#.rename(columns={'ACTIVITY_INDEX_TOTAL': 'MEAN_ACTIVITY_INDEX_TOTAL'})"
   ]
  },
  {
   "cell_type": "code",
   "execution_count": 35,
   "id": "9b39f493-b10e-479c-a3df-23bc80c94249",
   "metadata": {},
   "outputs": [
    {
     "data": {
      "text/html": [
       "<div>\n",
       "<style scoped>\n",
       "    .dataframe tbody tr th:only-of-type {\n",
       "        vertical-align: middle;\n",
       "    }\n",
       "\n",
       "    .dataframe tbody tr th {\n",
       "        vertical-align: top;\n",
       "    }\n",
       "\n",
       "    .dataframe thead th {\n",
       "        text-align: right;\n",
       "    }\n",
       "</style>\n",
       "<table border=\"1\" class=\"dataframe\">\n",
       "  <thead>\n",
       "    <tr style=\"text-align: right;\">\n",
       "      <th></th>\n",
       "      <th>AGG_DAY_PERIOD</th>\n",
       "      <th>BOUNDS</th>\n",
       "      <th>ACTIVITY_INDEX_TOTAL</th>\n",
       "    </tr>\n",
       "  </thead>\n",
       "  <tbody>\n",
       "    <tr>\n",
       "      <th>50000000</th>\n",
       "      <td>2020-12-10</td>\n",
       "      <td>[\\n  9.518280029296875e+00,\\n  5.2347085391106...</td>\n",
       "      <td>0.064982</td>\n",
       "    </tr>\n",
       "    <tr>\n",
       "      <th>50000001</th>\n",
       "      <td>2020-12-10</td>\n",
       "      <td>[\\n  9.518280029296875e+00,\\n  5.2407445753192...</td>\n",
       "      <td>0.247550</td>\n",
       "    </tr>\n",
       "    <tr>\n",
       "      <th>50000002</th>\n",
       "      <td>2020-12-10</td>\n",
       "      <td>[\\n  9.518280029296875e+00,\\n  5.2414147367821...</td>\n",
       "      <td>0.019615</td>\n",
       "    </tr>\n",
       "    <tr>\n",
       "      <th>50000003</th>\n",
       "      <td>2020-12-10</td>\n",
       "      <td>[\\n  9.518280029296875e+00,\\n  5.2426710150871...</td>\n",
       "      <td>0.104839</td>\n",
       "    </tr>\n",
       "    <tr>\n",
       "      <th>50000004</th>\n",
       "      <td>2020-12-10</td>\n",
       "      <td>[\\n  9.518280029296875e+00,\\n  5.2434246102623...</td>\n",
       "      <td>0.018592</td>\n",
       "    </tr>\n",
       "    <tr>\n",
       "      <th>50000005</th>\n",
       "      <td>2020-12-10</td>\n",
       "      <td>[\\n  9.518280029296875e+00,\\n  5.2457683046545...</td>\n",
       "      <td>0.069178</td>\n",
       "    </tr>\n",
       "    <tr>\n",
       "      <th>50000006</th>\n",
       "      <td>2020-12-10</td>\n",
       "      <td>[\\n  9.518280029296875e+00,\\n  5.2458519849642...</td>\n",
       "      <td>0.069772</td>\n",
       "    </tr>\n",
       "    <tr>\n",
       "      <th>50000007</th>\n",
       "      <td>2020-12-10</td>\n",
       "      <td>[\\n  9.518280029296875e+00,\\n  5.2461866903001...</td>\n",
       "      <td>0.179577</td>\n",
       "    </tr>\n",
       "    <tr>\n",
       "      <th>50000008</th>\n",
       "      <td>2020-12-10</td>\n",
       "      <td>[\\n  9.519653320312500e+00,\\n  5.1267929925864...</td>\n",
       "      <td>0.159727</td>\n",
       "    </tr>\n",
       "  </tbody>\n",
       "</table>\n",
       "</div>"
      ],
      "text/plain": [
       "         AGG_DAY_PERIOD                                             BOUNDS  \\\n",
       "50000000     2020-12-10  [\\n  9.518280029296875e+00,\\n  5.2347085391106...   \n",
       "50000001     2020-12-10  [\\n  9.518280029296875e+00,\\n  5.2407445753192...   \n",
       "50000002     2020-12-10  [\\n  9.518280029296875e+00,\\n  5.2414147367821...   \n",
       "50000003     2020-12-10  [\\n  9.518280029296875e+00,\\n  5.2426710150871...   \n",
       "50000004     2020-12-10  [\\n  9.518280029296875e+00,\\n  5.2434246102623...   \n",
       "50000005     2020-12-10  [\\n  9.518280029296875e+00,\\n  5.2457683046545...   \n",
       "50000006     2020-12-10  [\\n  9.518280029296875e+00,\\n  5.2458519849642...   \n",
       "50000007     2020-12-10  [\\n  9.518280029296875e+00,\\n  5.2461866903001...   \n",
       "50000008     2020-12-10  [\\n  9.519653320312500e+00,\\n  5.1267929925864...   \n",
       "\n",
       "          ACTIVITY_INDEX_TOTAL  \n",
       "50000000              0.064982  \n",
       "50000001              0.247550  \n",
       "50000002              0.019615  \n",
       "50000003              0.104839  \n",
       "50000004              0.018592  \n",
       "50000005              0.069178  \n",
       "50000006              0.069772  \n",
       "50000007              0.179577  \n",
       "50000008              0.159727  "
      ]
     },
     "execution_count": 35,
     "metadata": {},
     "output_type": "execute_result"
    }
   ],
   "source": [
    "grouped_df.head(100000000000)[50000000:50000009]"
   ]
  },
  {
   "cell_type": "code",
   "execution_count": 11,
   "id": "fefc58e3-d07e-4c92-b024-b5319593b3e2",
   "metadata": {},
   "outputs": [
    {
     "data": {
      "text/plain": [
       "AGG_DAY_PERIOD              366\n",
       "BOUNDS                  3036097\n",
       "ACTIVITY_INDEX_TOTAL     514692\n",
       "dtype: int64"
      ]
     },
     "execution_count": 11,
     "metadata": {},
     "output_type": "execute_result"
    }
   ],
   "source": [
    "grouped_df.nunique()"
   ]
  },
  {
   "cell_type": "code",
   "execution_count": 17,
   "id": "c2945641-c637-4d37-b965-dc2d39ed7dcf",
   "metadata": {},
   "outputs": [
    {
     "data": {
      "text/plain": [
       "52143374"
      ]
     },
     "execution_count": 17,
     "metadata": {},
     "output_type": "execute_result"
    }
   ],
   "source": [
    "len(grouped_df['ACTIVITY_INDEX_TOTAL'])\n",
    "#grouped_df.to_csv('./csv/grouped_csv.csv')"
   ]
  },
  {
   "cell_type": "code",
   "execution_count": 3,
   "id": "19a4d3ff-559c-4917-b8b6-30f30a4c0b1b",
   "metadata": {},
   "outputs": [],
   "source": [
    "df=pl.read_csv('./csv/grouped_csv.csv')"
   ]
  },
  {
   "cell_type": "code",
   "execution_count": null,
   "id": "9da142b0-460d-411a-963d-00287bb93332",
   "metadata": {},
   "outputs": [],
   "source": []
  },
  {
   "cell_type": "code",
   "execution_count": 5,
   "id": "25fb8193-7d71-49ab-aa26-91141d9575ce",
   "metadata": {},
   "outputs": [],
   "source": [
    "# Function to calculate the centroid of the bounds\n",
    "def calculate_centroid(bounds):\n",
    "    lower_left_lon, lower_left_lat, upper_right_lon, upper_right_lat = bounds\n",
    "    centroid_lon = (lower_left_lon + upper_right_lon) / 2\n",
    "    centroid_lat = (lower_left_lat + upper_right_lat) / 2\n",
    "    return centroid_lat, centroid_lon"
   ]
  },
  {
   "cell_type": "code",
   "execution_count": null,
   "id": "2f18dbdd-0800-4ef2-8e73-56bab3f0dc70",
   "metadata": {},
   "outputs": [
    {
     "name": "stderr",
     "output_type": "stream",
     "text": [
      "C:\\Users\\janak\\AppData\\Local\\Temp\\ipykernel_19232\\1482069414.py:3: DeprecationWarning: `apply` is deprecated. It has been renamed to `map_elements`.\n",
      "  pl.col(\"BOUNDS\").apply(lambda x: calculate_centroid(ast.literal_eval(x)), return_dtype=pl.List(pl.Float64)).alias(\"CENTROID\")\n"
     ]
    }
   ],
   "source": [
    "# Apply the function to calculate centroids\n",
    "df = df.with_columns(\n",
    "    pl.col(\"BOUNDS\").apply(lambda x: calculate_centroid(ast.literal_eval(x)), return_dtype=pl.List(pl.Float64)).alias(\"CENTROID\")\n",
    ")"
   ]
  },
  {
   "cell_type": "code",
   "execution_count": null,
   "id": "896ebb82-d2a6-4613-9705-9329af592c32",
   "metadata": {},
   "outputs": [],
   "source": [
    "# Split the centroid into two separate columns\n",
    "df = df.with_columns([\n",
    "    pl.col(\"CENTROID\").arr.get(0).alias(\"CENTROID_LAT\"),\n",
    "    pl.col(\"CENTROID\").arr.get(1).alias(\"CENTROID_LON\")\n",
    "]).drop(\"CENTROID\")\n"
   ]
  },
  {
   "cell_type": "code",
   "execution_count": null,
   "id": "9f7251c5-471e-4f51-932f-f1ae2cfbc151",
   "metadata": {},
   "outputs": [],
   "source": [
    "# Save the resulting DataFrame to a new CSV file\n",
    "df.write_csv('centroid_bounds.csv')\n",
    "\n",
    "print(\"The CSV file with centroids has been created successfully.\")"
   ]
  },
  {
   "cell_type": "code",
   "execution_count": null,
   "id": "bed17af6-7418-4774-857e-1df10c7a6359",
   "metadata": {},
   "outputs": [],
   "source": []
  },
  {
   "cell_type": "code",
   "execution_count": null,
   "id": "1665b6db-c8c8-4a97-bce6-eb4a03fc6899",
   "metadata": {},
   "outputs": [],
   "source": []
  },
  {
   "cell_type": "code",
   "execution_count": null,
   "id": "684b2e8f-b738-4598-9dea-125c59d7d5e5",
   "metadata": {},
   "outputs": [],
   "source": []
  },
  {
   "cell_type": "code",
   "execution_count": null,
   "id": "f81d8237-0e70-4f87-9ccc-b9b69796acf8",
   "metadata": {},
   "outputs": [],
   "source": []
  },
  {
   "cell_type": "code",
   "execution_count": null,
   "id": "dae31e0d-e41b-4799-bc11-d1f26a3eb2f6",
   "metadata": {},
   "outputs": [],
   "source": [
    "import polars as pl\n",
    "import ast\n",
    "\n",
    "# Load the CSV file\n",
    "df = pl.read_csv('your_file.csv')\n",
    "\n",
    "# Function to calculate the centroid of the bounds\n",
    "def calculate_centroid(bounds):\n",
    "    lower_left_lon, lower_left_lat, upper_right_lon, upper_right_lat = bounds\n",
    "    centroid_lon = (lower_left_lon + upper_right_lon) / 2\n",
    "    centroid_lat = (lower_left_lat + upper_right_lat) / 2\n",
    "    return centroid_lat, centroid_lon\n",
    "\n",
    "# Apply the function to calculate centroids\n",
    "df = df.with_column(\n",
    "    pl.col(\"BOUNDS\").apply(lambda x: calculate_centroid(ast.literal_eval(x)), return_dtype=pl.List(pl.Float64)).alias(\"CENTROID\")\n",
    ")\n",
    "\n",
    "# Split the centroid into two separate columns\n",
    "df = df.with_columns([\n",
    "    pl.col(\"CENTROID\").arr.get(0).alias(\"CENTROID_LAT\"),\n",
    "    pl.col(\"CENTROID\").arr.get(1).alias(\"CENTROID_LON\")\n",
    "]).drop(\"CENTROID\")\n",
    "\n",
    "# Save the resulting DataFrame to a new CSV file\n",
    "df.write_csv('centroid_bounds.csv')\n",
    "\n",
    "print(\"The CSV file with centroids has been created successfully.\")\n"
   ]
  },
  {
   "cell_type": "code",
   "execution_count": 37,
   "id": "e802f774-a759-48d1-8701-15ee99619898",
   "metadata": {},
   "outputs": [
    {
     "ename": "MemoryError",
     "evalue": "",
     "output_type": "error",
     "traceback": [
      "\u001b[1;31m---------------------------------------------------------------------------\u001b[0m",
      "\u001b[1;31mMemoryError\u001b[0m                               Traceback (most recent call last)",
      "Cell \u001b[1;32mIn[37], line 2\u001b[0m\n\u001b[0;32m      1\u001b[0m \u001b[38;5;66;03m# Parse the BOUNDS field and calculate the centroid for each bound\u001b[39;00m\n\u001b[1;32m----> 2\u001b[0m grouped_df[\u001b[38;5;124m'\u001b[39m\u001b[38;5;124mBOUNDS\u001b[39m\u001b[38;5;124m'\u001b[39m] \u001b[38;5;241m=\u001b[39m \u001b[43mgrouped_df\u001b[49m\u001b[43m[\u001b[49m\u001b[38;5;124;43m'\u001b[39;49m\u001b[38;5;124;43mBOUNDS\u001b[39;49m\u001b[38;5;124;43m'\u001b[39;49m\u001b[43m]\u001b[49m\u001b[38;5;241;43m.\u001b[39;49m\u001b[43mapply\u001b[49m\u001b[43m(\u001b[49m\u001b[38;5;28;43meval\u001b[39;49m\u001b[43m)\u001b[49m  \u001b[38;5;66;03m# Convert the string representation of the list to an actual list\u001b[39;00m\n",
      "File \u001b[1;32m~\\anaconda3\\envs\\python38\\lib\\site-packages\\pandas\\core\\series.py:4630\u001b[0m, in \u001b[0;36mSeries.apply\u001b[1;34m(self, func, convert_dtype, args, **kwargs)\u001b[0m\n\u001b[0;32m   4520\u001b[0m \u001b[38;5;28;01mdef\u001b[39;00m \u001b[38;5;21mapply\u001b[39m(\n\u001b[0;32m   4521\u001b[0m     \u001b[38;5;28mself\u001b[39m,\n\u001b[0;32m   4522\u001b[0m     func: AggFuncType,\n\u001b[1;32m   (...)\u001b[0m\n\u001b[0;32m   4525\u001b[0m     \u001b[38;5;241m*\u001b[39m\u001b[38;5;241m*\u001b[39mkwargs,\n\u001b[0;32m   4526\u001b[0m ) \u001b[38;5;241m-\u001b[39m\u001b[38;5;241m>\u001b[39m DataFrame \u001b[38;5;241m|\u001b[39m Series:\n\u001b[0;32m   4527\u001b[0m \u001b[38;5;250m    \u001b[39m\u001b[38;5;124;03m\"\"\"\u001b[39;00m\n\u001b[0;32m   4528\u001b[0m \u001b[38;5;124;03m    Invoke function on values of Series.\u001b[39;00m\n\u001b[0;32m   4529\u001b[0m \n\u001b[1;32m   (...)\u001b[0m\n\u001b[0;32m   4628\u001b[0m \u001b[38;5;124;03m    dtype: float64\u001b[39;00m\n\u001b[0;32m   4629\u001b[0m \u001b[38;5;124;03m    \"\"\"\u001b[39;00m\n\u001b[1;32m-> 4630\u001b[0m     \u001b[38;5;28;01mreturn\u001b[39;00m \u001b[43mSeriesApply\u001b[49m\u001b[43m(\u001b[49m\u001b[38;5;28;43mself\u001b[39;49m\u001b[43m,\u001b[49m\u001b[43m \u001b[49m\u001b[43mfunc\u001b[49m\u001b[43m,\u001b[49m\u001b[43m \u001b[49m\u001b[43mconvert_dtype\u001b[49m\u001b[43m,\u001b[49m\u001b[43m \u001b[49m\u001b[43margs\u001b[49m\u001b[43m,\u001b[49m\u001b[43m \u001b[49m\u001b[43mkwargs\u001b[49m\u001b[43m)\u001b[49m\u001b[38;5;241;43m.\u001b[39;49m\u001b[43mapply\u001b[49m\u001b[43m(\u001b[49m\u001b[43m)\u001b[49m\n",
      "File \u001b[1;32m~\\anaconda3\\envs\\python38\\lib\\site-packages\\pandas\\core\\apply.py:1025\u001b[0m, in \u001b[0;36mSeriesApply.apply\u001b[1;34m(self)\u001b[0m\n\u001b[0;32m   1022\u001b[0m     \u001b[38;5;28;01mreturn\u001b[39;00m \u001b[38;5;28mself\u001b[39m\u001b[38;5;241m.\u001b[39mapply_str()\n\u001b[0;32m   1024\u001b[0m \u001b[38;5;66;03m# self.f is Callable\u001b[39;00m\n\u001b[1;32m-> 1025\u001b[0m \u001b[38;5;28;01mreturn\u001b[39;00m \u001b[38;5;28;43mself\u001b[39;49m\u001b[38;5;241;43m.\u001b[39;49m\u001b[43mapply_standard\u001b[49m\u001b[43m(\u001b[49m\u001b[43m)\u001b[49m\n",
      "File \u001b[1;32m~\\anaconda3\\envs\\python38\\lib\\site-packages\\pandas\\core\\apply.py:1076\u001b[0m, in \u001b[0;36mSeriesApply.apply_standard\u001b[1;34m(self)\u001b[0m\n\u001b[0;32m   1074\u001b[0m     \u001b[38;5;28;01melse\u001b[39;00m:\n\u001b[0;32m   1075\u001b[0m         values \u001b[38;5;241m=\u001b[39m obj\u001b[38;5;241m.\u001b[39mastype(\u001b[38;5;28mobject\u001b[39m)\u001b[38;5;241m.\u001b[39m_values\n\u001b[1;32m-> 1076\u001b[0m         mapped \u001b[38;5;241m=\u001b[39m \u001b[43mlib\u001b[49m\u001b[38;5;241;43m.\u001b[39;49m\u001b[43mmap_infer\u001b[49m\u001b[43m(\u001b[49m\n\u001b[0;32m   1077\u001b[0m \u001b[43m            \u001b[49m\u001b[43mvalues\u001b[49m\u001b[43m,\u001b[49m\n\u001b[0;32m   1078\u001b[0m \u001b[43m            \u001b[49m\u001b[43mf\u001b[49m\u001b[43m,\u001b[49m\n\u001b[0;32m   1079\u001b[0m \u001b[43m            \u001b[49m\u001b[43mconvert\u001b[49m\u001b[38;5;241;43m=\u001b[39;49m\u001b[38;5;28;43mself\u001b[39;49m\u001b[38;5;241;43m.\u001b[39;49m\u001b[43mconvert_dtype\u001b[49m\u001b[43m,\u001b[49m\n\u001b[0;32m   1080\u001b[0m \u001b[43m        \u001b[49m\u001b[43m)\u001b[49m\n\u001b[0;32m   1082\u001b[0m \u001b[38;5;28;01mif\u001b[39;00m \u001b[38;5;28mlen\u001b[39m(mapped) \u001b[38;5;129;01mand\u001b[39;00m \u001b[38;5;28misinstance\u001b[39m(mapped[\u001b[38;5;241m0\u001b[39m], ABCSeries):\n\u001b[0;32m   1083\u001b[0m     \u001b[38;5;66;03m# GH#43986 Need to do list(mapped) in order to get treated as nested\u001b[39;00m\n\u001b[0;32m   1084\u001b[0m     \u001b[38;5;66;03m#  See also GH#25959 regarding EA support\u001b[39;00m\n\u001b[0;32m   1085\u001b[0m     \u001b[38;5;28;01mreturn\u001b[39;00m obj\u001b[38;5;241m.\u001b[39m_constructor_expanddim(\u001b[38;5;28mlist\u001b[39m(mapped), index\u001b[38;5;241m=\u001b[39mobj\u001b[38;5;241m.\u001b[39mindex)\n",
      "File \u001b[1;32m~\\anaconda3\\envs\\python38\\lib\\site-packages\\pandas\\_libs\\lib.pyx:2834\u001b[0m, in \u001b[0;36mpandas._libs.lib.map_infer\u001b[1;34m()\u001b[0m\n",
      "\u001b[1;31mMemoryError\u001b[0m: "
     ]
    }
   ],
   "source": [
    "# Parse the BOUNDS field and calculate the centroid for each bound\n",
    "grouped_df['BOUNDS'] = grouped_df['BOUNDS'].apply(eval)  # Convert the string representation of the list to an actual list"
   ]
  },
  {
   "cell_type": "code",
   "execution_count": null,
   "id": "d9d82bde-33ea-4615-8d60-2bbafd91a946",
   "metadata": {},
   "outputs": [],
   "source": [
    "grouped_df[['CENTROID_LAT', 'CENTROID_LON']] = grouped_df['BOUNDS'].apply(lambda b: pd.Series(calculate_centroid(b)))"
   ]
  },
  {
   "cell_type": "code",
   "execution_count": null,
   "id": "fe0f304a-3460-4307-96f0-237d2034863b",
   "metadata": {},
   "outputs": [],
   "source": []
  },
  {
   "cell_type": "code",
   "execution_count": null,
   "id": "ec22c0cc-b7f3-447d-98ca-c1c07b8af231",
   "metadata": {},
   "outputs": [],
   "source": []
  },
  {
   "cell_type": "code",
   "execution_count": null,
   "id": "a8d36828-f99d-490e-85d6-7847552ca3ab",
   "metadata": {},
   "outputs": [],
   "source": []
  },
  {
   "cell_type": "code",
   "execution_count": null,
   "id": "a2fbb4c3-49f0-438d-ba82-913a7aa5d455",
   "metadata": {},
   "outputs": [],
   "source": []
  },
  {
   "cell_type": "code",
   "execution_count": null,
   "id": "1c5437e5-ed24-4935-84c4-95c15cd109f7",
   "metadata": {},
   "outputs": [],
   "source": [
    "# Function to calculate the centroid of the bounds\n",
    "def calculate_centroid(bounds):\n",
    "    lower_left_lon, lower_left_lat, upper_right_lon, upper_right_lat = bounds\n",
    "    centroid_lon = (lower_left_lon + upper_right_lon) / 2\n",
    "    centroid_lat = (lower_left_lat + upper_right_lat) / 2\n",
    "    return centroid_lat, centroid_lon\n",
    "\n",
    "# Parse the BOUNDS field and calculate the centroid for each bound\n",
    "extracted_df['BOUNDS'] = extracted_df['BOUNDS'].apply(eval)  # Convert the string representation of the list to an actual list\n",
    "extracted_df[['CENTROID_LAT', 'CENTROID_LON']] = extracted_df['BOUNDS'].apply(lambda b: pd.Series(calculate_centroid(b)))\n",
    "\n",
    "# Group by AGG_DAY_PERIOD and BOUNDS and compute the mean ACTIVITY_INDEX_TOTAL\n",
    "grouped_df = extracted_df.groupby(['AGG_DAY_PERIOD', 'BOUNDS', 'CENTROID_LAT', 'CENTROID_LON'], as_index=False).agg({\n",
    "    'ACTIVITY_INDEX_TOTAL': 'mean'\n",
    "}).rename(columns={'ACTIVITY_INDEX_TOTAL': 'MEAN_ACTIVITY_INDEX_TOTAL'})\n",
    "\n",
    "# Save the resulting DataFrame to a new CSV file\n",
    "grouped_df.to_csv('mean_activity_index_per_day_bounds.csv', index=False)\n",
    "\n",
    "print(\"The CSV file has been created successfully.\")\n"
   ]
  },
  {
   "cell_type": "code",
   "execution_count": null,
   "id": "be67292f-3dd8-4424-a133-dd9136b10ecd",
   "metadata": {},
   "outputs": [],
   "source": []
  },
  {
   "cell_type": "code",
   "execution_count": null,
   "id": "7069fb85-5b99-4f96-a490-8554728ac5d6",
   "metadata": {},
   "outputs": [],
   "source": []
  },
  {
   "cell_type": "code",
   "execution_count": null,
   "id": "ff4c1008-ca4b-404b-9577-b742687fce9e",
   "metadata": {},
   "outputs": [],
   "source": []
  },
  {
   "cell_type": "code",
   "execution_count": null,
   "id": "3882bc85-ab4d-4d42-8835-fa5addda64cb",
   "metadata": {},
   "outputs": [],
   "source": []
  },
  {
   "cell_type": "code",
   "execution_count": null,
   "id": "2277d26b-3041-4026-9741-e2b5855c005d",
   "metadata": {},
   "outputs": [],
   "source": []
  }
 ],
 "metadata": {
  "kernelspec": {
   "display_name": "Python 3 (ipykernel)",
   "language": "python",
   "name": "python3"
  },
  "language_info": {
   "codemirror_mode": {
    "name": "ipython",
    "version": 3
   },
   "file_extension": ".py",
   "mimetype": "text/x-python",
   "name": "python",
   "nbconvert_exporter": "python",
   "pygments_lexer": "ipython3",
   "version": "3.8.19"
  }
 },
 "nbformat": 4,
 "nbformat_minor": 5
}
